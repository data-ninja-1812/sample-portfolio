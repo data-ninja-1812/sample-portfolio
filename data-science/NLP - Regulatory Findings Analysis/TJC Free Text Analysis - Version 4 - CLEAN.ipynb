{
 "cells": [
  {
   "cell_type": "markdown",
   "metadata": {},
   "source": [
    "# TJC Free Text Analysis"
   ]
  },
  {
   "cell_type": "markdown",
   "metadata": {},
   "source": [
    "<B>Clustering Technique:</B> Affinity Propogation\n",
    "<B>Distance Metric:</B> Cosine\n",
    "<B>Feature Engineering:</B>\n",
    "- NLTK Stopwords Removed\n",
    "- Limited Plural & Singular Reconciliation\n",
    "- Modified Bi-Gram technique that considers punctuation\n",
    "- DF_Min = 2"
   ]
  },
  {
   "cell_type": "markdown",
   "metadata": {},
   "source": [
    "Before beginning download the latest survey dataset from the TJC FTP site - 'TJC_Survey_Findings.xlsx'\n",
    "\n",
    "If a processing issue occurs, particularly toward the beginning of the year, check to ensure the file schema has not changed."
   ]
  },
  {
   "cell_type": "code",
   "execution_count": null,
   "metadata": {
    "collapsed": false,
    "jupyter": {
     "outputs_hidden": false
    }
   },
   "outputs": [],
   "source": [
    "#Import All Libraries\n",
    "\n",
    "#Base Libraries\n",
    "import pandas\n",
    "import numpy\n",
    "import re\n",
    "import operator\n",
    "\n",
    "#Data Science Libraries\n",
    "from nltk.corpus import stopwords\n",
    "from sklearn.feature_extraction.text import TfidfVectorizer\n",
    "from sklearn.metrics.pairwise import cosine_similarity\n",
    "from sklearn.cluster import AffinityPropagation\n",
    "from sklearn import metrics\n",
    "from sklearn.preprocessing import LabelBinarizer\n",
    "\n",
    "#Other Libraries\n",
    "import logging\n",
    "from time import localtime, strftime  #Used for Performanace Analysis\n",
    "import matplotlib.pyplot as plt #REMOVE FOR PRODUCTION\n",
    "%matplotlib inline #REMOVE FOR PRODUCTION\n",
    "\n",
    "#Reset Dataframe Visuals\n",
    "pandas.set_option('max_colwidth',100) #REMOVE FOR PRODUCTION"
   ]
  },
  {
   "cell_type": "markdown",
   "metadata": {},
   "source": [
    "### Load in the latest data for analysis (ETL)"
   ]
  },
  {
   "cell_type": "code",
   "execution_count": 2,
   "metadata": {
    "collapsed": false,
    "jupyter": {
     "outputs_hidden": false
    }
   },
   "outputs": [
    {
     "name": "stdout",
     "output_type": "stream",
     "text": [
      "Loading existing survey data.....  Done\n",
      "Number of Surveys:       610\n",
      "Number of Observations:  7451\n"
     ]
    }
   ],
   "source": [
    "#Get existing data that was previously previously processed\n",
    "print(\"Loading existing survey data...\",end=\"\", flush=True)\n",
    "\n",
    "dataset_historical_OrgsSurveyed = pandas.read_excel('TJC_Survey_Findings_Historical.xlsx', sheetname = 'OrgsSurveyed')\n",
    "print(\"..\",end=\"\", flush=True)\n",
    "\n",
    "dataset_historical_StdandEPDetail = pandas.read_excel('TJC_Survey_Findings_Historical.xlsx', sheetname = 'StdandEPDetail')\n",
    "\n",
    "print(\"  Done\")\n",
    "print(\"Number of Surveys:      \", len(dataset_historical_OrgsSurveyed))\n",
    "print(\"Number of Observations: \", len(dataset_historical_StdandEPDetail))"
   ]
  },
  {
   "cell_type": "code",
   "execution_count": 3,
   "metadata": {
    "collapsed": false,
    "jupyter": {
     "outputs_hidden": false
    }
   },
   "outputs": [
    {
     "name": "stdout",
     "output_type": "stream",
     "text": [
      "Loading most recent survey data.....  Done\n"
     ]
    }
   ],
   "source": [
    "#Get latest data using data downloaded from TJC FTP site\n",
    "print(\"Loading most recent survey data...\", end=\"\", flush=True)\n",
    "dataset_current_OrgsSurveyed = pandas.read_excel('TJC_Survey_Findings.xlsx', sheetname = 'OrgsSurveyed')\n",
    "print(\"..\",end=\"\", flush=True)\n",
    "dataset_current_StdandEPDetail = pandas.read_excel('TJC_Survey_Findings.xlsx', sheetname = 'StdandEPDetail')\n",
    "print(\"  Done\")"
   ]
  },
  {
   "cell_type": "code",
   "execution_count": 4,
   "metadata": {
    "collapsed": false,
    "jupyter": {
     "outputs_hidden": false
    }
   },
   "outputs": [
    {
     "name": "stdout",
     "output_type": "stream",
     "text": [
      "Validating column alignment...\n",
      "Table: OrgSurveyed - VALID\n",
      "Table: StdandEPDetail - VALID\n"
     ]
    }
   ],
   "source": [
    "#Confirm columns match\n",
    "print(\"Validating column alignment...\")\n",
    "if max(dataset_historical_OrgsSurveyed.columns == dataset_current_OrgsSurveyed.columns):\n",
    "    print(\"Table: OrgSurveyed - VALID\")\n",
    "else:\n",
    "    print(\"Table: OrgSurveyed - NOT VALID\")\n",
    "\n",
    "if max(dataset_historical_StdandEPDetail.columns == dataset_current_StdandEPDetail.columns):\n",
    "    print(\"Table: StdandEPDetail - VALID\")\n",
    "else:\n",
    "    print(\"Table: StdandEPDetail - NOT VALID\")\n",
    "    \n",
    "## Kill process and throw off code if these do not align"
   ]
  },
  {
   "cell_type": "code",
   "execution_count": 5,
   "metadata": {
    "collapsed": true,
    "jupyter": {
     "outputs_hidden": true
    }
   },
   "outputs": [],
   "source": [
    "####################################\n",
    "# For reference only:\n",
    "#\n",
    "# dataset_historical_OrgsSurveyed.columns =  Index(['Organization ID', 'Organization Name', 'Location', 'Survey Start Date',\n",
    "#       'Survey End Date', 'Program Code', 'Program Name',\n",
    "#       'Certification  Disease Code', 'Certification  Disease Name',\n",
    "#       'Event Type', 'TJC Region Group Name', 'TJC Region Name',\n",
    "#       'Number of Standards Not Compliant', 'surveyor days',\n",
    "#       'Number of  EPs Not  Compliant', 'Deemed  Program  Surveyed',\n",
    "#       'program_event_id'],\n",
    "#      dtype='object')\n",
    "#\n",
    "# dataset_historical_StdandEPDetail.columns =  Index(['Organization ID', 'Organization Name', 'City', 'State',\n",
    "#       'TJC Region Name', 'Program Code', 'Certification  Disease Code',\n",
    "#       'Event Type', 'Standard Chapter Code', 'Standard Chapter Name',\n",
    "#       'Standard Text', 'Standard', 'EP', 'Standard and EP',\n",
    "#       'EP SAFER Placement', 'EP Scope', 'EP Likelihood', 'Survey Start Date',\n",
    "#       'Survey End Date', 'Survey Year', 'EP Text', 'EP Observations',\n",
    "#       'program_event_id'],\n",
    "#      dtype='object')\n",
    "#\n",
    "####################################"
   ]
  },
  {
   "cell_type": "code",
   "execution_count": 5,
   "metadata": {
    "collapsed": false,
    "jupyter": {
     "outputs_hidden": false
    }
   },
   "outputs": [
    {
     "name": "stdout",
     "output_type": "stream",
     "text": [
      "Appending existing dataset with new data...  Done\n",
      "Number of Surveys:       610\n",
      "Number of Observations:  7451\n"
     ]
    }
   ],
   "source": [
    "print(\"Appending existing dataset with new data...\", end=\"\", flush=True)\n",
    "\n",
    "#Append exisiting dataset with current data\n",
    "dataset_OrgsSurveyed = dataset_historical_OrgsSurveyed.append(dataset_current_OrgsSurveyed, ignore_index=True)\n",
    "dataset_StdandEPDetail = dataset_historical_StdandEPDetail.append(dataset_current_StdandEPDetail, ignore_index=True)\n",
    "\n",
    "#Remove duplicates\n",
    "dataset_OrgsSurveyed.drop_duplicates(inplace  = True)\n",
    "dataset_StdandEPDetail.drop_duplicates(inplace  = True)\n",
    "\n",
    "#Reset indicies\n",
    "dataset_OrgsSurveyed.reset_index(drop=True, inplace=True)\n",
    "dataset_StdandEPDetail.reset_index(drop=True,inplace=True)\n",
    "\n",
    "print(\"  Done\")\n",
    "print(\"Number of Surveys:      \", len(dataset_OrgsSurveyed))\n",
    "print(\"Number of Observations: \", len(dataset_StdandEPDetail))"
   ]
  },
  {
   "cell_type": "code",
   "execution_count": 6,
   "metadata": {
    "collapsed": false,
    "jupyter": {
     "outputs_hidden": false
    }
   },
   "outputs": [
    {
     "name": "stdout",
     "output_type": "stream",
     "text": [
      "Saving updated dataset for future use.........  Done\n"
     ]
    }
   ],
   "source": [
    "print(\"Saving updated dataset for future use...\", end=\"\", flush=True)\n",
    "#Update Data File\n",
    "\n",
    "#Open an excel file for writing\n",
    "writer = pandas.ExcelWriter('TJC_Survey_Findings_Historical.xlsx')\n",
    "print(\"..\", end=\"\", flush=True)\n",
    "\n",
    "#Pass through survey metadata\n",
    "dataset_OrgsSurveyed.to_excel(writer,'OrgsSurveyed',index=False)\n",
    "print(\"..\", end=\"\", flush=True)\n",
    "dataset_StdandEPDetail.to_excel(writer,'StdandEPDetail',index=False)\n",
    "print(\"..\", end=\"\", flush=True)\n",
    "\n",
    "#Save the excel file\n",
    "writer.save()\n",
    "\n",
    "print(\"  Done\")"
   ]
  },
  {
   "cell_type": "code",
   "execution_count": 7,
   "metadata": {
    "collapsed": false,
    "jupyter": {
     "outputs_hidden": false
    }
   },
   "outputs": [
    {
     "name": "stdout",
     "output_type": "stream",
     "text": [
      "Preparing dataset for preprocessing...  Done\n"
     ]
    }
   ],
   "source": [
    "print(\"Preparing dataset for preprocessing...\", end=\"\", flush=True)\n",
    "\n",
    "#Pass data for processing\n",
    "dataset = dataset_StdandEPDetail.copy(deep = True)\n",
    "\n",
    "#Replace Spaces in Column Names\n",
    "dataset.columns = dataset.columns.str.translate({ord(c): '_' for c in ' '})\n",
    "\n",
    "print(\"  Done\")"
   ]
  },
  {
   "cell_type": "markdown",
   "metadata": {},
   "source": [
    "### Preprocess - Reconcile Plural & Sigular forms of words"
   ]
  },
  {
   "cell_type": "code",
   "execution_count": 8,
   "metadata": {
    "collapsed": false,
    "jupyter": {
     "outputs_hidden": false
    }
   },
   "outputs": [
    {
     "name": "stdout",
     "output_type": "stream",
     "text": [
      "\n",
      "PREPROCESS - CREATE DICTIONARY OF PLURAL WORDS TO REPLACE\n",
      "\n",
      "Preparing observation data.......  Done"
     ]
    }
   ],
   "source": [
    "print(\"\\nPREPROCESS - CREATE DICTIONARY OF PLURAL WORDS TO REPLACE\\n\")\n",
    "print(\"Preparing observation data...\", end=\"\", flush=True)\n",
    "\n",
    "#Add Column for processing text\n",
    "dataset['EP_Observations_proc'] = dataset.EP_Observations.astype(str)\n",
    "print(\"..\", end=\"\", flush=True)\n",
    "\n",
    "#Clean up the descriptions for processing\n",
    "dataset.EP_Observations_proc = dataset.EP_Observations_proc.apply(lambda x:re.sub(r'[^a-zA-Z_ ]',r'',x)).str.lower() #Pass only letters\n",
    "dataset.EP_Observations_proc = dataset.EP_Observations_proc.apply(lambda x:re.sub(r'\\s+', r' ',x)) #Trim whitespace\n",
    "print(\"..\", end=\"\", flush=True)\n",
    "\n",
    "#Remove stopwords\n",
    "pattern = re.compile(r'\\b(' + r'|'.join(stopwords.words('english')) + r')\\b\\s*')\n",
    "dataset.EP_Observations_proc = dataset.EP_Observations_proc.apply(lambda x:pattern.sub('', x))\n",
    "print(\"  Done\", end=\"\", flush=True)\n"
   ]
  },
  {
   "cell_type": "code",
   "execution_count": 9,
   "metadata": {
    "collapsed": false,
    "jupyter": {
     "outputs_hidden": false
    }
   },
   "outputs": [
    {
     "name": "stdout",
     "output_type": "stream",
     "text": [
      "Identifying words existing in both plural and sigular form...\n",
      "100.0% Complete\n",
      "\n",
      "Building dictionary of plural words to convert to singular form...\n",
      "100.0% Complete\n",
      "\n",
      "Number of unique plural words to be converted:  1256\n",
      "Test word: schedules --> schedule\n",
      "Test word: doors --> door\n",
      "Preprocessing Complete\n"
     ]
    }
   ],
   "source": [
    "print(\"Identifying words existing in both plural and sigular form...\")\n",
    "\n",
    "#Get remaining words\n",
    "word_list = list(set([item for sublist in dataset.EP_Observations_proc.str.split() for item in sublist]))\n",
    "\n",
    "#Naive search for plural words ending in \"s\" or \"es\"\n",
    "\n",
    "#Note: If these is no single form found, there is no match and therefore no transformation since it is not neccessary\n",
    "\n",
    "word_set = pandas.Series(word_list)\n",
    "word_plural = pandas.Series()\n",
    "word_plural_single = pandas.Series()\n",
    "\n",
    "progress_target = len(word_set.index.values)\n",
    "progress_current = 0\n",
    "print(('%.1f%%' %(100.0*progress_current/progress_target)).rjust(6) + ' Complete', end = \"\")\n",
    "\n",
    "for idx in word_set.index.values:\n",
    "    if word_set.loc[idx][-1:] == 's':\n",
    "        if len(word_set.loc[idx]) > 3:\n",
    "            if max(word_set == word_set.loc[idx][:-1]):\n",
    "                word_plural = word_plural.append(pandas.Series(word_set.loc[idx] , index = [idx]))\n",
    "                word_plural_single = word_plural_single.append(pandas.Series(word_set.loc[idx][0:-1] , index = [idx]))\n",
    "                word_set.drop(idx,inplace=True)\n",
    "    elif word_set.loc[idx][-2:] == 'es':\n",
    "        if len(word_set.loc[idx]) > 4:\n",
    "            if max(word_set == word_set.loc[idx][:-2]):\n",
    "                word_plural = word_plural.append(pandas.Series(word_set.loc[idx] , index = [idx]))\n",
    "                word_plural_single = word_plural_single.append(pandas.Series(word_set.loc[idx][0:-2] , index = [idx]))\n",
    "                word_set.drop(idx,inplace=True)\n",
    "    \n",
    "    progress_current += 1\n",
    "    print('\\r' + ('%.1f%%' %(100.0*progress_current/progress_target)).rjust(6) + ' Complete', end = \"\")\n",
    "\n",
    "\n",
    "#Build dictionary with plural words matching single form\n",
    "print('\\n\\nBuilding dictionary of plural words to convert to singular form...')\n",
    "progress_target = len(word_plural_single.index.values)\n",
    "progress_current = 0\n",
    "print(('%.1f%%' %(100.0*progress_current/progress_target)).rjust(6) + ' Complete', end = \"\")\n",
    "\n",
    "word_mod = {}\n",
    "\n",
    "for idx in word_plural_single.index.values:\n",
    "    if len(word_set[word_set == word_plural_single[idx]].values) > 0:\n",
    "        word_mod.update({word_plural[idx] : ''.join(word_set[word_set == word_plural_single[idx]].values)})\n",
    "    progress_current += 1\n",
    "    print('\\r' + ('%.1f%%' %(100.0*progress_current/progress_target)).rjust(6) + ' Complete', end = \"\")\n",
    "\n",
    "#Check results\n",
    "print('\\n\\nNumber of unique plural words to be converted: ', len(word_mod))\n",
    "print('Test word: schedules -->', word_mod.get('schedules'))\n",
    "print('Test word: doors -->', word_mod.get('doors'))\n",
    "print('Preprocessing Complete')"
   ]
  },
  {
   "cell_type": "markdown",
   "metadata": {},
   "source": [
    "### Prep Free Text for Analysis"
   ]
  },
  {
   "cell_type": "code",
   "execution_count": 10,
   "metadata": {
    "collapsed": false,
    "jupyter": {
     "outputs_hidden": false
    }
   },
   "outputs": [
    {
     "name": "stdout",
     "output_type": "stream",
     "text": [
      "\n",
      "PREPROCESS - PREP FREE TEXT FOR ANALYSIS\n",
      "\n"
     ]
    }
   ],
   "source": [
    "print('\\nPREPROCESS - PREP FREE TEXT FOR ANALYSIS\\n')\n",
    "\n",
    "#Bi-Gram Function - Concatinate adjacent words for naive context\n",
    "#Note:  It would be nice to find a fully supported function here\n",
    "def word_seq(orig_text):\n",
    "    new_string_list = []\n",
    "    orig_string_list = orig_text.split()\n",
    "    for idx in range(0,len(orig_string_list)-1):\n",
    "        new_string_list += ['{:s}_{:s}'.format(orig_string_list[idx],orig_string_list[idx+1])]\n",
    "    output = ' '.join(new_string_list)\n",
    "    return(' ' + output.strip())"
   ]
  },
  {
   "cell_type": "code",
   "execution_count": 11,
   "metadata": {
    "collapsed": false,
    "jupyter": {
     "outputs_hidden": false
    }
   },
   "outputs": [
    {
     "name": "stdout",
     "output_type": "stream",
     "text": [
      "Preparing observation data.......  Done\n"
     ]
    }
   ],
   "source": [
    "print(\"Preparing observation data...\", end=\"\", flush=True)\n",
    "\n",
    "#Reset Column for processing text\n",
    "dataset['EP_Observations_proc'] = dataset.EP_Observations.astype(str)\n",
    "print('..', end='', flush=True)\n",
    "\n",
    "# TEST DATAPOINT - dataset.EP_Observations_proc.iloc[308]\n",
    "\n",
    "#Clean up the descriptions for processing\n",
    "dataset.EP_Observations_proc = dataset.EP_Observations_proc.apply(lambda x:re.sub(r'[^a-zA-Z_ \\.,\\;]',r' ',x)).str.lower() #Pass only characters as well as punctuation that act as seperators\n",
    "print('..', end='', flush=True)\n",
    "dataset.EP_Observations_proc = dataset.EP_Observations_proc.apply(lambda x:re.sub(r'\\s+', r' ',x)) #Trim whitespace\n",
    "\n",
    "print('  Done')"
   ]
  },
  {
   "cell_type": "code",
   "execution_count": 14,
   "metadata": {
    "collapsed": false,
    "jupyter": {
     "outputs_hidden": false
    }
   },
   "outputs": [],
   "source": [
    "# TEST DATAPOINT - dataset.EP_Observations_proc.iloc[308]"
   ]
  },
  {
   "cell_type": "code",
   "execution_count": 12,
   "metadata": {
    "collapsed": false,
    "jupyter": {
     "outputs_hidden": false
    }
   },
   "outputs": [
    {
     "name": "stdout",
     "output_type": "stream",
     "text": [
      "Reconciling plural and singular words...\n",
      "100.0% Complete"
     ]
    }
   ],
   "source": [
    "#Convert plural words to single form\n",
    "\n",
    "print(\"Reconciling plural and singular words...\")\n",
    "\n",
    "progress_target = len(word_mod)\n",
    "progress_current = 0\n",
    "print(('%.1f%%' %(100.0*progress_current/progress_target)).rjust(6) + ' Complete', end = \"\")\n",
    "\n",
    "for key, value in word_mod.items():\n",
    "    dataset.EP_Observations_proc = dataset.EP_Observations_proc.apply(lambda x:re.sub(r'\\b%s\\b' % key, value, x))\n",
    "\n",
    "    progress_current += 1\n",
    "    print('\\r' + ('%.1f%%' %(100.0*progress_current/progress_target)).rjust(6) + ' Complete', end = \"\")\n"
   ]
  },
  {
   "cell_type": "code",
   "execution_count": 13,
   "metadata": {
    "collapsed": false,
    "jupyter": {
     "outputs_hidden": false
    }
   },
   "outputs": [],
   "source": [
    "# TEST DATAPOINT - dataset.EP_Observations_proc.iloc[308]"
   ]
  },
  {
   "cell_type": "code",
   "execution_count": 14,
   "metadata": {
    "collapsed": false,
    "jupyter": {
     "outputs_hidden": false
    }
   },
   "outputs": [
    {
     "name": "stdout",
     "output_type": "stream",
     "text": [
      "Implementing bi-gram function.....................  Done\n",
      "PREPROCESSING - COMPLETE\n"
     ]
    }
   ],
   "source": [
    "print('Implementing bi-gram function...', end ='', flush = True)\n",
    "\n",
    "#Replace stopwords & punctuation with \"X\"\n",
    "pattern = re.compile(r'\\b(' + r'|'.join(stopwords.words('english')) + r')\\b\\s*')\n",
    "dataset.EP_Observations_proc = dataset.EP_Observations_proc.apply(lambda x:pattern.sub(' X ', x))\n",
    "print('..', end = '', flush = True)\n",
    "dataset.EP_Observations_proc = dataset.EP_Observations_proc.apply(lambda x:re.sub(r'[\\.,\\;]', ' X ', x))\n",
    "print('..', end = '', flush = True)\n",
    "\n",
    "#Replace any word of 1 character with \"X\"\n",
    "dataset.EP_Observations_proc = dataset.EP_Observations_proc.apply(lambda x:re.sub(r'\\b\\w{1,1}\\b', r'X', x))\n",
    "print('..', end = '', flush = True)\n",
    "\n",
    "#Attach bi-grams to description\n",
    "dataset['word_seq'] = dataset.EP_Observations_proc.apply(lambda x:word_seq(x))\n",
    "print('..', end = '', flush = True)\n",
    "dataset.EP_Observations_proc = dataset.EP_Observations_proc + dataset.word_seq\n",
    "dataset.drop(axis=1, labels=['word_seq'], inplace = True)\n",
    "print('..', end = '', flush = True)\n",
    "\n",
    "# TEST DATAPOINT - dataset.EP_Observations_proc.iloc[308]\n",
    "\n",
    "#Remove items containing \"X^\"\n",
    "dataset.EP_Observations_proc = dataset.EP_Observations_proc.apply(lambda x:re.sub(r'\\bX_X\\b', r' ',x)) #Remove \"X_X\"\n",
    "print('..', end = '', flush = True)\n",
    "dataset.EP_Observations_proc = dataset.EP_Observations_proc.apply(lambda x:re.sub(r'\\bX\\b', r' ',x)) #Remove \"X\"\n",
    "print('..', end = '', flush = True)\n",
    "dataset.EP_Observations_proc = dataset.EP_Observations_proc.apply(lambda x:re.sub(r'\\bX_\\S*\\b', r' ',x)) #Remove \"X_word\"\n",
    "print('..', end = '', flush = True)\n",
    "dataset.EP_Observations_proc = dataset.EP_Observations_proc.apply(lambda x:re.sub(r'\\b\\S*_X\\b', r' ',x)) #Remove \"word_X\"\n",
    "print('..', end = '', flush = True)\n",
    "dataset.EP_Observations_proc = dataset.EP_Observations_proc.apply(lambda x:re.sub(r'\\s+', r' ',x)) #Trim Whitespace\n",
    "\n",
    "print('  Done')\n",
    "print('PREPROCESSING - COMPLETE')"
   ]
  },
  {
   "cell_type": "code",
   "execution_count": 15,
   "metadata": {
    "collapsed": false,
    "jupyter": {
     "outputs_hidden": false
    }
   },
   "outputs": [],
   "source": [
    "# TEST DATAPOINT - dataset.EP_Observations_proc.iloc[308]"
   ]
  },
  {
   "cell_type": "markdown",
   "metadata": {},
   "source": [
    "### TF-IDF processing"
   ]
  },
  {
   "cell_type": "code",
   "execution_count": 16,
   "metadata": {
    "collapsed": false,
    "jupyter": {
     "outputs_hidden": false
    }
   },
   "outputs": [
    {
     "name": "stdout",
     "output_type": "stream",
     "text": [
      "Creating TFIDF matrix...  Done\n",
      "Calculating cosine distances...  Done\n"
     ]
    }
   ],
   "source": [
    "#TF-IDF\n",
    "print('Creating TFIDF matrix...', end ='', flush = True)\n",
    "\n",
    "vectorizer = TfidfVectorizer(stop_words='english', min_df = 2)\n",
    "X = vectorizer.fit_transform(dataset['EP_Observations_proc'])\n",
    "print('  Done')\n",
    "\n",
    "#Use Cosine Similarity since entries are of varying lengths\n",
    "#We want to avoid basing toward longer entries\n",
    "\n",
    "print('Calculating cosine distances...', end ='', flush = True)\n",
    "\n",
    "base_tfidf = cosine_similarity(X)\n",
    "\n",
    "print('  Done')"
   ]
  },
  {
   "cell_type": "code",
   "execution_count": 17,
   "metadata": {
    "collapsed": false,
    "jupyter": {
     "outputs_hidden": false
    }
   },
   "outputs": [],
   "source": [
    "# len(vectorizer.vocabulary_)"
   ]
  },
  {
   "cell_type": "markdown",
   "metadata": {},
   "source": [
    "### Build clustering model"
   ]
  },
  {
   "cell_type": "code",
   "execution_count": 18,
   "metadata": {
    "collapsed": false,
    "jupyter": {
     "outputs_hidden": false
    }
   },
   "outputs": [
    {
     "name": "stdout",
     "output_type": "stream",
     "text": [
      "Building cluster model... (This may take some time.)\n",
      "2018-08-30 11:07:33\n",
      "Converged after 377 iterations.\n",
      "2018-08-30 11:18:50\n"
     ]
    }
   ],
   "source": [
    "print('Building cluster model... (This may take some time.)')\n",
    "print(strftime(\"%Y-%m-%d %H:%M:%S\", localtime()))\n",
    "\n",
    "#Run propagation model\n",
    "model = AffinityPropagation(damping=0.9, max_iter=500, convergence_iter=15, copy=True, preference=None, affinity='precomputed', verbose=True)\n",
    "model.fit(base_tfidf)\n",
    "\n",
    "print(strftime(\"%Y-%m-%d %H:%M:%S\", localtime()))"
   ]
  },
  {
   "cell_type": "code",
   "execution_count": 19,
   "metadata": {
    "collapsed": false,
    "jupyter": {
     "outputs_hidden": false
    }
   },
   "outputs": [],
   "source": [
    "#Attach Cluster Labels to Dataset\n",
    "dataset['cluster_id'] = pandas.Series(model.labels_, dtype = \"int32\")"
   ]
  },
  {
   "cell_type": "code",
   "execution_count": 20,
   "metadata": {
    "collapsed": false,
    "jupyter": {
     "outputs_hidden": false
    }
   },
   "outputs": [
    {
     "data": {
      "text/plain": [
       "LabelBinarizer(neg_label=0, pos_label=1, sparse_output=False)"
      ]
     },
     "execution_count": 20,
     "metadata": {},
     "output_type": "execute_result"
    }
   ],
   "source": [
    "#Encode Chapter, Standard, and EP for each observation for analysis\n",
    "\n",
    "chapter_enc = LabelBinarizer()\n",
    "chapter_enc.fit(dataset.Standard_Chapter_Code.str.strip())\n",
    "\n",
    "standard_enc = LabelBinarizer()\n",
    "standard_enc.fit(dataset.Standard.str.strip())\n",
    "\n",
    "dataset['Standard_and_EP_mod'] = dataset.Standard_and_EP.str.strip().str.translate({ord(c): '_' for c in ' '}).astype(str)\n",
    "stdEP_enc = LabelBinarizer()\n",
    "stdEP_enc.fit(dataset.Standard_and_EP_mod)"
   ]
  },
  {
   "cell_type": "code",
   "execution_count": 21,
   "metadata": {
    "collapsed": false,
    "jupyter": {
     "outputs_hidden": false
    }
   },
   "outputs": [],
   "source": [
    "#Describe each cluster\n",
    "\n",
    "cluster_no = []\n",
    "cluster_count = []\n",
    "cluster_words = []\n",
    "\n",
    "cluster_chapter_counts = []\n",
    "cluster_standard_counts = []\n",
    "cluster_ep_counts = []\n",
    "\n",
    "clusters = pandas.Series(model.labels_).value_counts().index.tolist()\n",
    "\n",
    "for i in clusters:\n",
    "    \n",
    "    #Describe each cluster with the count and top 20 words\n",
    "    X_list = X[model.labels_ == i].sum(axis=0).argsort().tolist()[0]\n",
    "    X_keywords = numpy.array(list(dict(sorted(vectorizer.vocabulary_.items(), key=operator.itemgetter(1))).keys()))\n",
    "    cluster_no += [i]\n",
    "    cluster_count += [pandas.Series(model.labels_).value_counts()[i]]\n",
    "    cluster_words += [', '.join(X_keywords[X_list[-21:-1]].tolist())]\n",
    "    \n",
    "    cluster_chapter_counts += [sum(chapter_enc.transform(dataset.Standard_Chapter_Code[dataset.cluster_id==i].str.strip()))]\n",
    "    cluster_standard_counts += [sum(standard_enc.transform(dataset.Standard[dataset.cluster_id==i].str.strip()))]\n",
    "    cluster_ep_counts += [sum(stdEP_enc.transform(dataset.Standard_and_EP_mod[dataset.cluster_id==i].str.strip()))]\n",
    "    \n",
    "cluster_chapter_counts = numpy.array(cluster_chapter_counts)\n",
    "cluster_standard_counts = numpy.array(cluster_standard_counts)\n",
    "cluster_ep_counts = numpy.array(cluster_ep_counts)"
   ]
  },
  {
   "cell_type": "code",
   "execution_count": null,
   "metadata": {
    "collapsed": false,
    "jupyter": {
     "outputs_hidden": false
    }
   },
   "outputs": [],
   "source": [
    "#Compute Model Metrics\n",
    "Silh_Co = metrics.silhouette_score(X, model.labels_, metric='cosine')\n",
    "Cal_Har = metrics.calinski_harabaz_score(X.toarray(), model.labels_)\n",
    "\n",
    "#chapter_L21 = sum(sum(cluster_chapter_counts**2))**0.5\n",
    "#standard_L21 = sum(sum(cluster_standard_counts**2))**0.5\n",
    "#ep_L21 = sum(sum(cluster_ep_counts**2))**0.5\n",
    "\n",
    "chapter_ms = sum((cluster_chapter_counts**2).sum(axis=1) / (cluster_chapter_counts).sum(axis=1))\n",
    "standard_ms = sum((cluster_standard_counts**2).sum(axis=1) / (cluster_standard_counts).sum(axis=1))\n",
    "ep_ms = sum((cluster_ep_counts**2).sum(axis=1) / (cluster_ep_counts).sum(axis=1))"
   ]
  },
  {
   "cell_type": "code",
   "execution_count": 23,
   "metadata": {
    "collapsed": false,
    "jupyter": {
     "outputs_hidden": false
    }
   },
   "outputs": [
    {
     "name": "stdout",
     "output_type": "stream",
     "text": [
      "Model Performance\n",
      "Number of Observations:\t7451\n",
      "Number of Features:  \t18280\n",
      "Number of Clusters:  \t930\n",
      "Number of Iterations:\t378\n",
      "ΣMeanSq - Chapter: \t5904.1 (79.2%)\n",
      "ΣMeanSq - Standard:\t4835.0 (64.9%)\n",
      "Silhouette Coefficient:\t0.1379\n"
     ]
    }
   ],
   "source": [
    "print('Model Performance')\n",
    "print('Number of Observations:\\t%i' %len(dataset))\n",
    "print('Number of Features:  \\t%i' %len(vectorizer.vocabulary_))\n",
    "print('Number of Clusters:  \\t%i' %len(model.cluster_centers_indices_))\n",
    "print('Number of Iterations:\\t%i' %model.n_iter_)\n",
    "print('ΣMeanSq - Chapter: \\t%.1f (%.1f%%)' %(chapter_ms, 100.0*chapter_ms/sum(sum(cluster_chapter_counts))))\n",
    "print('ΣMeanSq - Standard:\\t%.1f (%.1f%%)' %(standard_ms, 100.0*standard_ms/sum(sum(cluster_standard_counts))))\n",
    "#print('ΣMeanSq - EP:      \\t%.1f (%.1f%%)' %(ep_ms, 100.0*ep_ms/sum(sum(cluster_ep_counts))))\n",
    "#print('L2,1 Norm - Chapter: \\t%.2f' %chapter_L21)\n",
    "#print('L2,1 Norm - Standard:\\t%.2f' %standard_L21)\n",
    "#print('L2,1 Norm - EP:      \\t%.2f' %ep_L21)\n",
    "print('Silhouette Coefficient:\\t%.4f' %Silh_Co)\n",
    "#print('Calinski-Harabaz Index:\\t%.3f' %Cal_Har)"
   ]
  },
  {
   "cell_type": "code",
   "execution_count": 25,
   "metadata": {
    "collapsed": false,
    "jupyter": {
     "outputs_hidden": false
    },
    "scrolled": true
   },
   "outputs": [
    {
     "data": {
      "image/png": "[encoded data removed]",
      "text/plain": [
       "<matplotlib.figure.Figure at 0x7f3cf41afc18>"
      ]
     },
     "metadata": {},
     "output_type": "display_data"
    }
   ],
   "source": [
    "#REMOVE FOR PRODUCTION\n",
    "\n",
    "import seaborn\n",
    "%matplotlib inline \n",
    "seaborn.set_style(\"whitegrid\")\n",
    "\n",
    "cluster_stats = (pandas.Series(model.labels_).value_counts().values.tolist())\n",
    "\n",
    "plt.figure(figsize=(8,6))\n",
    "seaborn.distplot(cluster_stats, kde = False, bins=range(0,60))\n",
    "plt.xlim([0,60])\n",
    "plt.ylim([0,120])\n",
    "plt.xlabel('Cluster Size', fontdict={'size' : 18})\n",
    "plt.ylabel('Number of Clusters', fontdict={'size' : 18})\n",
    "plt.grid()"
   ]
  },
  {
   "cell_type": "code",
   "execution_count": 26,
   "metadata": {
    "collapsed": false,
    "jupyter": {
     "outputs_hidden": false
    }
   },
   "outputs": [],
   "source": [
    "#Compiled the cluster information into a dataframe\n",
    "export_clusters = pandas.concat([pandas.DataFrame(cluster_no), pandas.DataFrame(cluster_count) , pandas.DataFrame(cluster_words)], axis=1)\n",
    "export_clusters.columns = ['cluster_number','count','top_words']"
   ]
  },
  {
   "cell_type": "code",
   "execution_count": 27,
   "metadata": {
    "collapsed": false,
    "jupyter": {
     "outputs_hidden": false
    }
   },
   "outputs": [
    {
     "data": {
      "text/html": [
       "<div>\n",
       "<style>\n",
       "    .dataframe thead tr:only-child th {\n",
       "        text-align: right;\n",
       "    }\n",
       "\n",
       "    .dataframe thead th {\n",
       "        text-align: left;\n",
       "    }\n",
       "\n",
       "    .dataframe tbody tr th {\n",
       "        vertical-align: top;\n",
       "    }\n",
       "</style>\n",
       "<table border=\"1\" class=\"dataframe\">\n",
       "  <thead>\n",
       "    <tr style=\"text-align: right;\">\n",
       "      <th></th>\n",
       "      <th>cluster_number</th>\n",
       "      <th>count</th>\n",
       "      <th>top_words</th>\n",
       "    </tr>\n",
       "  </thead>\n",
       "  <tbody>\n",
       "    <tr>\n",
       "      <th>0</th>\n",
       "      <td>43</td>\n",
       "      <td>52</td>\n",
       "      <td>service, hospital_deemed, deemed, deemed_service, staff, documentation, obse...</td>\n",
       "    </tr>\n",
       "    <tr>\n",
       "      <th>1</th>\n",
       "      <td>708</td>\n",
       "      <td>47</td>\n",
       "      <td>hole, floor, check, corridor, open, open_inch, inch_cable, wall_check, cable...</td>\n",
       "    </tr>\n",
       "    <tr>\n",
       "      <th>2</th>\n",
       "      <td>532</td>\n",
       "      <td>46</td>\n",
       "      <td>timed, policy_informed, documentation, benefit, transfusion, consent_policy,...</td>\n",
       "    </tr>\n",
       "    <tr>\n",
       "      <th>3</th>\n",
       "      <td>451</td>\n",
       "      <td>40</td>\n",
       "      <td>indicated, floor, functional, panel_check, nurse_station, required, station,...</td>\n",
       "    </tr>\n",
       "    <tr>\n",
       "      <th>4</th>\n",
       "      <td>913</td>\n",
       "      <td>39</td>\n",
       "      <td>maintenance_issue, issue, door_pair, positive, room, hardware, positive_latc...</td>\n",
       "    </tr>\n",
       "    <tr>\n",
       "      <th>5</th>\n",
       "      <td>179</td>\n",
       "      <td>37</td>\n",
       "      <td>unit, medical, program, tracer_activity, activity, related, nursing_plan, tr...</td>\n",
       "    </tr>\n",
       "    <tr>\n",
       "      <th>6</th>\n",
       "      <td>700</td>\n",
       "      <td>36</td>\n",
       "      <td>critical, panel_check, critical_electrical, floor, room, service, electrical...</td>\n",
       "    </tr>\n",
       "    <tr>\n",
       "      <th>7</th>\n",
       "      <td>81</td>\n",
       "      <td>33</td>\n",
       "      <td>sterile_room, supply, sterile_supply, storage_room, sterile_processing, proc...</td>\n",
       "    </tr>\n",
       "    <tr>\n",
       "      <th>8</th>\n",
       "      <td>589</td>\n",
       "      <td>31</td>\n",
       "      <td>chart, norco, dose, mild_pain, mild, tab, moderate_pain, percocet, level, or...</td>\n",
       "    </tr>\n",
       "    <tr>\n",
       "      <th>9</th>\n",
       "      <td>274</td>\n",
       "      <td>28</td>\n",
       "      <td>administered, mcg, titrate, ordered, morphine, level, pain_score, medication...</td>\n",
       "    </tr>\n",
       "  </tbody>\n",
       "</table>\n",
       "</div>"
      ],
      "text/plain": [
       "   cluster_number  count  \\\n",
       "0              43     52   \n",
       "1             708     47   \n",
       "2             532     46   \n",
       "3             451     40   \n",
       "4             913     39   \n",
       "5             179     37   \n",
       "6             700     36   \n",
       "7              81     33   \n",
       "8             589     31   \n",
       "9             274     28   \n",
       "\n",
       "                                                                         top_words  \n",
       "0  service, hospital_deemed, deemed, deemed_service, staff, documentation, obse...  \n",
       "1  hole, floor, check, corridor, open, open_inch, inch_cable, wall_check, cable...  \n",
       "2  timed, policy_informed, documentation, benefit, transfusion, consent_policy,...  \n",
       "3  indicated, floor, functional, panel_check, nurse_station, required, station,...  \n",
       "4  maintenance_issue, issue, door_pair, positive, room, hardware, positive_latc...  \n",
       "5  unit, medical, program, tracer_activity, activity, related, nursing_plan, tr...  \n",
       "6  critical, panel_check, critical_electrical, floor, room, service, electrical...  \n",
       "7  sterile_room, supply, sterile_supply, storage_room, sterile_processing, proc...  \n",
       "8  chart, norco, dose, mild_pain, mild, tab, moderate_pain, percocet, level, or...  \n",
       "9  administered, mcg, titrate, ordered, morphine, level, pain_score, medication...  "
      ]
     },
     "execution_count": 27,
     "metadata": {},
     "output_type": "execute_result"
    }
   ],
   "source": [
    "#REMOVE FOR PRODUCTION\n",
    "\n",
    "pandas.set_option('max_colwidth',80)\n",
    "export_clusters.head(10)"
   ]
  },
  {
   "cell_type": "markdown",
   "metadata": {},
   "source": [
    "# Post Processing"
   ]
  },
  {
   "cell_type": "markdown",
   "metadata": {},
   "source": [
    "### Macro Level Analysis - Find Survey over Survery Repeat Issues within Clusters at the Hospital Level"
   ]
  },
  {
   "cell_type": "code",
   "execution_count": 28,
   "metadata": {
    "tags": []
   },
   "outputs": [],
   "source": [
    "#Limit dataset to HAP\n",
    "dataset_hap = dataset[dataset.Program_Code.str.strip() == 'HAP'].copy(deep = True)\n",
    "#dataset_hap retains original index of dataset for mapping"
   ]
  },
  {
   "cell_type": "code",
   "execution_count": 29,
   "metadata": {
    "tags": []
   },
   "outputs": [],
   "source": [
    "#Identify number of unique surveys per organization\n",
    "org_set = []\n",
    "\n",
    "for org_id in dataset_hap.Organization_ID.unique():\n",
    "    org_set += [(org_id, len(dataset_hap.program_event_id[dataset_hap.Organization_ID == org_id].unique()))]\n",
    "    \n",
    "org_set = numpy.array(org_set)\n",
    "\n",
    "#Remove organizations w/o multiple surveys\n",
    "\n",
    "org_set = org_set[org_set[:,1]>1]"
   ]
  },
  {
   "cell_type": "code",
   "execution_count": 30,
   "metadata": {
    "tags": []
   },
   "outputs": [],
   "source": [
    "#Identify clusters that have multiple observations within each organization left over\n",
    "clstr_index = []\n",
    "clstr_data = []\n",
    "\n",
    "for org_id in org_set[:,0]:\n",
    "    tempinfo = dataset_hap.cluster_id[(dataset_hap.Organization_ID == org_id)].value_counts()\n",
    "    clstr_index += [org_id]\n",
    "    clstr_data += [tempinfo[tempinfo > 1].index]\n",
    "\n",
    "clstr_set = pandas.Series(data = clstr_data, index = clstr_index)\n",
    "org_set = pandas.Series(data = org_set[:,1], index = org_set[:,0])"
   ]
  },
  {
   "cell_type": "code",
   "execution_count": 31,
   "metadata": {
    "tags": []
   },
   "outputs": [],
   "source": [
    "#For each org & cluster set, only consider those that with multiple occurances accross surveys\n",
    "multi_set = []\n",
    "\n",
    "for org_id in clstr_set.index:\n",
    "    for clstr_id in clstr_set[org_id]:\n",
    "        multi_set += [(org_id, clstr_id, len(dataset_hap.program_event_id[(dataset_hap.Organization_ID == org_id) & (dataset_hap.cluster_id == clstr_id)].unique())>1)]\n",
    "    \n",
    "multi_set = numpy.array(multi_set)"
   ]
  },
  {
   "cell_type": "code",
   "execution_count": 32,
   "metadata": {
    "tags": []
   },
   "outputs": [],
   "source": [
    "#Create list of indeicies that should be flagged for multisurvey occurances\n",
    "flag_index = []\n",
    "\n",
    "for multi_ocr in multi_set[multi_set[:,2] == 1]:\n",
    "    flag_index += list(dataset_hap[(dataset_hap.Organization_ID == multi_ocr[0]) & (dataset_hap.cluster_id == multi_ocr[1])].index)"
   ]
  },
  {
   "cell_type": "markdown",
   "metadata": {},
   "source": [
    "Attach results to observations for Macro Analysis"
   ]
  },
  {
   "cell_type": "code",
   "execution_count": 33,
   "metadata": {
    "tags": []
   },
   "outputs": [],
   "source": [
    "#Create new column with 0/1 Flag\n",
    "dataset = dataset.assign(multi_survey_flag = 0)"
   ]
  },
  {
   "cell_type": "code",
   "execution_count": null,
   "metadata": {
    "collapsed": false,
    "jupyter": {
     "outputs_hidden": false
    }
   },
   "outputs": [],
   "source": [
    "#Add multi survey flag data\n",
    "dataset.multi_survey_flag.loc[flag_index] = 1\n",
    "sum(dataset.multi_survey_flag)"
   ]
  },
  {
   "cell_type": "markdown",
   "metadata": {},
   "source": [
    "### Micro Level Analysis - Cosine Similarity"
   ]
  },
  {
   "cell_type": "markdown",
   "metadata": {},
   "source": [
    "Find Survey over Survery Repeat Issues using similarity measure within each hospital"
   ]
  },
  {
   "cell_type": "code",
   "execution_count": 35,
   "metadata": {
    "tags": []
   },
   "outputs": [],
   "source": [
    "# Create list of unique organizations by Organization_ID focused on only the HAP program\n",
    "org_list = []\n",
    "for org_id in dataset.Organization_ID.unique():\n",
    "    org_list += [[org_id, len(dataset[(dataset.Organization_ID == org_id) & (dataset.Program_Code.str.strip() == 'HAP')].Survey_Start_Date.unique())]]\n",
    "    \n",
    "org_list = numpy.array(org_list)\n",
    "\n",
    "# Limit the list to those that have had at least 2 surveys\n",
    "org_list = list(org_list[org_list[:,1]>1][:,0])"
   ]
  },
  {
   "cell_type": "code",
   "execution_count": 36,
   "metadata": {
    "tags": []
   },
   "outputs": [],
   "source": [
    "# Go through all off the pairs of data and create list of similarities\n",
    "\n",
    "cos_data = []\n",
    "\n",
    "for org_id in org_list:\n",
    "\n",
    "    # Get survey dates\n",
    "    test_date_A, test_date_B = dataset.Survey_Start_Date[(dataset.Organization_ID == org_id) & (dataset.Program_Code.astype(str) == 'HAP     ')].unique()\n",
    "\n",
    "    # Get index locations of observations for each survey\n",
    "    limit_set_A = list(dataset[(dataset.Organization_ID == org_id) & (dataset.Program_Code.astype(str) == 'HAP     ') & (dataset.Survey_Start_Date.astype(str) == test_date_A)].index.values)\n",
    "    limit_set_B = list(dataset[(dataset.Organization_ID == org_id) & (dataset.Program_Code.astype(str) == 'HAP     ') & (dataset.Survey_Start_Date.astype(str) == test_date_B)].index.values)\n",
    "\n",
    "    # Get correlation data for the surveys\n",
    "    limit_data = base_tfidf[limit_set_A,:][:,limit_set_B]\n",
    "    \n",
    "    # Convert correlation array to a flat list for consumption by Tableau\n",
    "    for y in range(0,limit_data.shape[0]):\n",
    "        for x in range(0,limit_data.shape[1]):\n",
    "            cos_data += [[org_id,limit_set_A[y],limit_set_B[x], limit_data[y,x]]]"
   ]
  },
  {
   "cell_type": "code",
   "execution_count": 37,
   "metadata": {
    "tags": []
   },
   "outputs": [],
   "source": [
    "# Convert list to dataframe for better handling\n",
    "# In theory this is not needed, in practice Tableau needs this to handle the dataset\n",
    "\n",
    "cos_data = numpy.array(cos_data)\n",
    "\n",
    "cos_df = pandas.DataFrame()\n",
    "cos_df['Organization_ID'] = cos_data[:,0].astype(int)\n",
    "cos_df['Survey_A_idx'] = cos_data[:,1].astype(int)\n",
    "cos_df['Survey_B_idx'] = cos_data[:,2].astype(int)\n",
    "cos_df['Cosine_Similarity'] = cos_data[:,3]"
   ]
  },
  {
   "cell_type": "code",
   "execution_count": null,
   "metadata": {
    "collapsed": false,
    "jupyter": {
     "outputs_hidden": false
    }
   },
   "outputs": [],
   "source": [
    "cos_df[cos_df.Cosine_Similarity > 0.5]"
   ]
  },
  {
   "cell_type": "code",
   "execution_count": null,
   "metadata": {
    "collapsed": false,
    "jupyter": {
     "outputs_hidden": false
    }
   },
   "outputs": [],
   "source": [
    "print(dataset.EP_Observations.loc[572], '\\n')\n",
    "print(dataset.EP_Observations.loc[4524])"
   ]
  },
  {
   "cell_type": "markdown",
   "metadata": {},
   "source": [
    "Set threshold and attach results to observations"
   ]
  },
  {
   "cell_type": "code",
   "execution_count": 40,
   "metadata": {
    "tags": []
   },
   "outputs": [],
   "source": [
    "#Create new column with 0/1 Flag\n",
    "dataset = dataset.assign(cosine_similarity_flag = 0)"
   ]
  },
  {
   "cell_type": "code",
   "execution_count": null,
   "metadata": {
    "collapsed": false,
    "jupyter": {
     "outputs_hidden": false
    }
   },
   "outputs": [],
   "source": [
    "# Use a cosine similary threshold greater than ~0.20\n",
    "# To make sense of the data, we will use 0.25\n",
    "\n",
    "micro_threshold = 0.25\n",
    "micro_index = cos_df.Survey_A_idx[cos_df.Cosine_Similarity >= micro_threshold].append(cos_df.Survey_B_idx[cos_df.Cosine_Similarity >= micro_threshold]).unique()\n",
    "dataset.cosine_similarity_flag.loc[micro_index] = 1"
   ]
  },
  {
   "cell_type": "code",
   "execution_count": 42,
   "metadata": {
    "tags": []
   },
   "outputs": [],
   "source": [
    "dataset['ref_index'] = dataset.index.values"
   ]
  },
  {
   "cell_type": "markdown",
   "metadata": {},
   "source": [
    "# Output the data to one consumable file"
   ]
  },
  {
   "cell_type": "code",
   "execution_count": 43,
   "metadata": {
    "collapsed": false,
    "jupyter": {
     "outputs_hidden": false
    }
   },
   "outputs": [],
   "source": [
    "#Open an excel file for writing\n",
    "writer = pandas.ExcelWriter('TJC Data Processed.xlsx')"
   ]
  },
  {
   "cell_type": "code",
   "execution_count": 44,
   "metadata": {
    "tags": []
   },
   "outputs": [],
   "source": [
    "#Pass through survey metadata\n",
    "#metadata = pandas.read_excel('TJC Data.xlsx', sheetname='OrsSurveyed')  #Passthrough Data\n",
    "dataset_OrgsSurveyed.to_excel(writer,'OrgsSurveyed',index=False)\n",
    "\n",
    "#Include Survey Details with cluster assignment, but drop processing data\n",
    "dataset.drop(labels='EP_Observations_proc', axis=1).to_excel(writer,'StdandEPDetail',index=False)\n",
    "\n",
    "#Include Survey Details with cluster assignment, but drop processing data\n",
    "cos_df.to_excel(writer,'Similarity_Analysis',index=False)\n",
    "\n",
    "#Include details on each cluster\n",
    "export_clusters.to_excel(writer, 'Cluster_Details', index=False)"
   ]
  },
  {
   "cell_type": "code",
   "execution_count": 45,
   "metadata": {
    "tags": []
   },
   "outputs": [],
   "source": [
    "#Save the excel file\n",
    "writer.save()"
   ]
  },
  {
   "cell_type": "markdown",
   "metadata": {},
   "source": [
    "# Compare the models"
   ]
  },
  {
   "cell_type": "code",
   "execution_count": 46,
   "metadata": {
    "tags": []
   },
   "outputs": [],
   "source": [
    "from sklearn.metrics import confusion_matrix\n",
    "import seaborn\n",
    "seaborn.set_style(\"whitegrid\")"
   ]
  },
  {
   "cell_type": "code",
   "execution_count": 47,
   "metadata": {
    "tags": []
   },
   "outputs": [],
   "source": [
    "comp_results = pandas.DataFrame(dataset.multi_survey_flag)\n",
    "comp_results.columns = ['Macro']"
   ]
  },
  {
   "cell_type": "code",
   "execution_count": 48,
   "metadata": {
    "tags": []
   },
   "outputs": [],
   "source": [
    "micro_threshold = 0.3\n",
    "comp_results['Micro'] = 0\n",
    "micro_index = cos_df.Survey_A_idx[cos_df.Cosine_Similarity >= micro_threshold].append(cos_df.Survey_B_idx[cos_df.Cosine_Similarity >= micro_threshold]).unique()\n",
    "comp_results.Micro.loc[micro_index] = 1"
   ]
  },
  {
   "cell_type": "code",
   "execution_count": 49,
   "metadata": {
    "tags": []
   },
   "outputs": [],
   "source": [
    "conf = confusion_matrix(comp_results.Macro, comp_results.Micro)"
   ]
  },
  {
   "cell_type": "code",
   "execution_count": 50,
   "metadata": {
    "collapsed": false,
    "jupyter": {
     "outputs_hidden": false
    }
   },
   "outputs": [
    {
     "data": {
      "text/plain": [
       "<matplotlib.text.Text at 0x7f3cf3e27f98>"
      ]
     },
     "execution_count": 50,
     "metadata": {},
     "output_type": "execute_result"
    },
    {
     "data": {
      "image/png": "[encoded data removed]",
      "text/plain": [
       "<matplotlib.figure.Figure at 0x7f3cf480c780>"
      ]
     },
     "metadata": {},
     "output_type": "display_data"
    }
   ],
   "source": [
    "fig = seaborn.heatmap(conf, cmap = 'hot', annot = True,\n",
    "                      annot_kws={\"size\": 16}, fmt='d',\n",
    "                      xticklabels = ['Not Repeat', 'Repeat'], yticklabels = ['Not Repeat', 'Repeat'])\n",
    "fig.set_xlabel(str('Cosine Similarity >= ' + str(micro_threshold)), size = 16)\n",
    "fig.set_ylabel('Clustering Model', size = 16)"
   ]
  },
  {
   "cell_type": "code",
   "execution_count": 51,
   "metadata": {
    "tags": []
   },
   "outputs": [],
   "source": [
    "conf_list = []\n",
    "conf_thres = []\n",
    "for x in range(0,100,1):\n",
    "    micro_threshold = x/100\n",
    "    comp_results['Micro'] = 0\n",
    "    micro_index = cos_df.Survey_A_idx[cos_df.Cosine_Similarity >= micro_threshold].append(cos_df.Survey_B_idx[cos_df.Cosine_Similarity >= micro_threshold]).unique()\n",
    "    comp_results.Micro.loc[micro_index] = 1\n",
    "    \n",
    "    conf_thres += [micro_threshold]\n",
    "    conf_list += [confusion_matrix(comp_results.Macro, comp_results.Micro)]\n",
    "    \n",
    "conf_list = numpy.array(conf_list)"
   ]
  },
  {
   "cell_type": "code",
   "execution_count": 53,
   "metadata": {
    "collapsed": false,
    "jupyter": {
     "outputs_hidden": false
    }
   },
   "outputs": [
    {
     "data": {
      "text/plain": [
       "[<matplotlib.lines.Line2D at 0x7f3cf3befcc0>]"
      ]
     },
     "execution_count": 53,
     "metadata": {},
     "output_type": "execute_result"
    },
    {
     "data": {
      "image/png": "[encoded data removed]",
      "text/plain": [
       "<matplotlib.figure.Figure at 0x7f3cf4817fd0>"
      ]
     },
     "metadata": {},
     "output_type": "display_data"
    }
   ],
   "source": [
    "tp = conf_list[:,1,1]\n",
    "fp = conf_list[:,0,1]\n",
    "plt.plot(fp,tp)"
   ]
  },
  {
   "cell_type": "code",
   "execution_count": null,
   "metadata": {
    "tags": []
   },
   "outputs": [],
   "source": []
  }
 ],
 "metadata": {
  "anaconda-cloud": {},
  "kernelspec": {
   "display_name": "Python [conda env:gci7043_NLP]",
   "language": "python",
   "name": "conda-env-gci7043_NLP-py"
  },
  "language_info": {
   "codemirror_mode": {
    "name": "ipython",
    "version": 3
   },
   "file_extension": ".py",
   "mimetype": "text/x-python",
   "name": "python",
   "nbconvert_exporter": "python",
   "pygments_lexer": "ipython3",
   "version": "3.6.2"
  }
 },
 "nbformat": 4,
 "nbformat_minor": 4
}

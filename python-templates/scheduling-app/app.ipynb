{
 "cells": [
  {
   "cell_type": "code",
   "execution_count": null,
   "id": "16a1f752",
   "metadata": {},
   "outputs": [],
   "source": [
    "# For Jupyter only\n",
    "def exit(e): raise KeyboardInterrupt"
   ]
  },
  {
   "cell_type": "code",
   "execution_count": null,
   "id": "38677025",
   "metadata": {},
   "outputs": [],
   "source": [
    "import subprocess\n",
    "import sys\n",
    "from signal import signal, SIGINT\n",
    "import logging\n",
    "import schedule\n",
    "from time import sleep\n",
    "from datetime import datetime"
   ]
  },
  {
   "cell_type": "code",
   "execution_count": null,
   "id": "8e15b379",
   "metadata": {},
   "outputs": [],
   "source": [
    "# Parameters\n",
    "LOG_FILE = 'app.log'\n",
    "DATE_FMT = '%Y-%m-%d %H:%M:%S'"
   ]
  },
  {
   "cell_type": "code",
   "execution_count": null,
   "id": "97965b17",
   "metadata": {},
   "outputs": [],
   "source": [
    "# Logging setup\n",
    "logging.basicConfig(level=logging.INFO,\n",
    "                    format='%(asctime)s - %(message)s',\n",
    "                    datefmt=DATE_FMT,\n",
    "                    handlers=[logging.FileHandler(LOG_FILE), logging.StreamHandler()]) # Log to file and stdout"
   ]
  },
  {
   "cell_type": "code",
   "execution_count": null,
   "id": "c5d4dcea",
   "metadata": {},
   "outputs": [],
   "source": [
    "logging.info('Initiating scheduling app...')"
   ]
  },
  {
   "cell_type": "code",
   "execution_count": null,
   "id": "de3ec3de",
   "metadata": {},
   "outputs": [],
   "source": [
    "# Keyboard Interrupt function\n",
    "def handler(signal_received, frame):\n",
    "    logging.info('SIGINT or CTRL-C detected.')\n",
    "    logging.info('Scheduling app terminating...')\n",
    "    exit(0)"
   ]
  },
  {
   "cell_type": "code",
   "execution_count": null,
   "id": "b9d9fad3",
   "metadata": {},
   "outputs": [],
   "source": [
    "# Heartbeat function\n",
    "def heartBeat():\n",
    "    logging.info('♥')"
   ]
  },
  {
   "cell_type": "code",
   "execution_count": null,
   "id": "555a6462",
   "metadata": {},
   "outputs": [],
   "source": [
    "# Subprocess function - Blocking\n",
    "def myProcess(pyFile):\n",
    "    \n",
    "    logging.info('Executing - %s' %(pyFile))\n",
    "    \n",
    "    proc = subprocess.Popen(['python',pyFile], stdout=subprocess.PIPE, stderr=subprocess.STDOUT)\n",
    "    \n",
    "    # The stdout logging should be moved to within the called pyFile scripts\n",
    "    # as not to wait for subprocess to finish running    \n",
    "    for line in proc.stdout:\n",
    "        logging.info(line.decode().rstrip('\\n'))\n",
    "    \n",
    "    logging.info('Terminating - %s' %(pyFile))"
   ]
  },
  {
   "cell_type": "code",
   "execution_count": null,
   "id": "8f54f379",
   "metadata": {},
   "outputs": [],
   "source": [
    "# Subprocess function - Non-blocking\n",
    "def myProcess(pyFile):\n",
    "    \n",
    "    logging.info('Starting - %s' %(pyFile))\n",
    "    \n",
    "    proc = subprocess.Popen(['python',pyFile])\n",
    "    \n",
    "    logging.info('Started - %s' %(pyFile))"
   ]
  },
  {
   "cell_type": "code",
   "execution_count": null,
   "id": "5c529610",
   "metadata": {},
   "outputs": [],
   "source": [
    "# Scheduling setup function\n",
    "def schedulePlan():\n",
    "    schedule.clear()\n",
    "    schedule.every(10).seconds.do(heartBeat)\n",
    "    schedule.every(30).seconds.do(myProcess, pyFile='hello.py')\n",
    "    #schedule.every().day.at(\"03:00\").do(myProcess, pyFile='hello.py') #Schedule daily at 10:00PM"
   ]
  },
  {
   "cell_type": "code",
   "execution_count": null,
   "id": "4dc0493a",
   "metadata": {},
   "outputs": [],
   "source": [
    "# Main scheduling function\n",
    "def main():\n",
    "    \n",
    "    signal(SIGINT, handler) # Handles CTRL-C Keyboard Interrupt\n",
    "\n",
    "    schedulePlan()\n",
    "    \n",
    "    logging.info('Scheduling app running...')\n",
    "\n",
    "    while True:\n",
    "        schedule.run_pending()\n",
    "        sleep(1)"
   ]
  },
  {
   "cell_type": "code",
   "execution_count": null,
   "id": "fa561d1f",
   "metadata": {},
   "outputs": [],
   "source": [
    "main()"
   ]
  },
  {
   "cell_type": "code",
   "execution_count": null,
   "id": "24d05d28",
   "metadata": {},
   "outputs": [],
   "source": []
  }
 ],
 "metadata": {
  "kernelspec": {
   "display_name": "Data Quality (Py 3.6.9)",
   "language": "python",
   "name": "dqm"
  },
  "language_info": {
   "codemirror_mode": {
    "name": "ipython",
    "version": 3
   },
   "file_extension": ".py",
   "mimetype": "text/x-python",
   "name": "python",
   "nbconvert_exporter": "python",
   "pygments_lexer": "ipython3",
   "version": "3.6.9"
  }
 },
 "nbformat": 4,
 "nbformat_minor": 5
}

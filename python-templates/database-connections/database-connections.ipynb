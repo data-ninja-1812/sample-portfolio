{
 "cells": [
  {
   "cell_type": "markdown",
   "id": "46f5c052",
   "metadata": {},
   "source": [
    "# Database Connection Code Blocks for HCA Python Scripts"
   ]
  },
  {
   "cell_type": "code",
   "execution_count": null,
   "id": "7894c9f3",
   "metadata": {},
   "outputs": [],
   "source": [
    "# Import Libraries\n",
    "\n",
    "import os\n",
    "import pandas as pd\n",
    "import sqlalchemy\n",
    "import getpass # For use in masked password inputs"
   ]
  },
  {
   "cell_type": "markdown",
   "id": "9ee62e26",
   "metadata": {},
   "source": [
    "## Teradata"
   ]
  },
  {
   "cell_type": "code",
   "execution_count": null,
   "id": "a13a8ed2",
   "metadata": {},
   "outputs": [],
   "source": [
    "# Setup Teradata connection parameters within a notebook\n",
    "# Do not use in production scripts\n",
    "\n",
    "TERADATA_HOST = '' # Required\n",
    "TERADATA_PORT = '1025' # Default\n",
    "TERADATA_DATABASE = '' # Default\n",
    "TERADATA_USER = input(\"User Name:\")\n",
    "TERADATA_PASSWORD = getpass.getpass(prompt='Password: ', stream=None)"
   ]
  },
  {
   "cell_type": "code",
   "execution_count": null,
   "id": "1e6b7508",
   "metadata": {},
   "outputs": [],
   "source": [
    "# Setup Teradata connection parameters with environment variables\n",
    "# Required for production scripts\n",
    "# ! Never hardcode sensitive information such as usernames and passwords !\n",
    "\n",
    "TERADATA_HOST = os.environ['TERADATA_HOST']\n",
    "TERADATA_PORT = os.environ['TERADATA_PORT'] # Default = '1025'\n",
    "TERADATA_DATABASE = os.environ['TERADATA_DATABASE'] # Default = ''\n",
    "TERADATA_USER = os.environ['TERADATA_USER']\n",
    "TERADATA_PASSWORD = os.environ['TERADATA_PASSWORD']"
   ]
  },
  {
   "cell_type": "code",
   "execution_count": null,
   "id": "763b3941",
   "metadata": {},
   "outputs": [],
   "source": [
    "# Generate sqlalchemy connection string using the Teradata dialect\n",
    "# The Teradata dialect for sqlalchemy is part of the `teradatasqlalchemy` library\n",
    "\n",
    "# Minimum url requirements\n",
    "td_url = f'teradatasql://{TERADATA_USER}:{TERADATA_PASSWORD}@{TERADATA_HOST}'\n",
    "\n",
    "# Alternative full url string\n",
    "td_url = f'teradatasql://{TERADATA_USER}:{TERADATA_PASSWORD}@{TERADATA_HOST}:{TERADATA_PORT}/{TERADATA_DATABASE}'"
   ]
  },
  {
   "cell_type": "code",
   "execution_count": null,
   "id": "14bf42b9",
   "metadata": {},
   "outputs": [],
   "source": [
    "# Create database connection to Teradata using a sqlalchemy engine  \n",
    "td_engine = sqlalchemy.create_engine(td_url)"
   ]
  },
  {
   "cell_type": "markdown",
   "id": "bf19a86e",
   "metadata": {},
   "source": [
    "## SQL Server"
   ]
  },
  {
   "cell_type": "code",
   "execution_count": null,
   "id": "91cc8fbd",
   "metadata": {},
   "outputs": [],
   "source": [
    "# Setup SQL Server connection parameters within a notebook\n",
    "# Do not use in production scripts\n",
    "\n",
    "SQL_SERVER_HOST = '' # Required\n",
    "SQL_SERVER_PORT = '1433' # Default\n",
    "SQL_SERVER_DATABASE = '' # Usuaully Required\n",
    "SQL_SERVER_USER = input(\"User Name:\")\n",
    "SQL_SERVER_PASSWORD = getpass.getpass(prompt='Password: ', stream=None)"
   ]
  },
  {
   "cell_type": "code",
   "execution_count": null,
   "id": "4a7fe6a1",
   "metadata": {},
   "outputs": [],
   "source": [
    "# Setup SQL Server connection parameters with environment variables\n",
    "# Required for production scripts\n",
    "# ! Never hardcode sensitive information such as usernames and passwords !\n",
    "\n",
    "SQL_SERVER_HOST = os.environ['SQL_SERVER_HOST']\n",
    "SQL_SERVER_PORT = os.environ['SQL_SERVER_PORT'] # Default = '1433'\n",
    "SQL_SERVER_DATABASE = os.environ['SQL_SERVER_DATABASE']\n",
    "SQL_SERVER_USER = os.environ['SQL_SERVER_USER']\n",
    "SQL_SERVER_PASSWORD = os.environ['SQL_SERVER_PASSWORD']"
   ]
  },
  {
   "cell_type": "code",
   "execution_count": null,
   "id": "73488b0f",
   "metadata": {},
   "outputs": [],
   "source": [
    "# Generate sqlalchemy connection string using the MS-SQL Server dialect\n",
    "# The Teradata dialect for sqlalchemy is part of the `pymssql` library\n",
    "\n",
    "# Minimum url requirements\n",
    "mssql_url = f'mssql+pymssql://{SQL_SERVER_USER}:{SQL_SERVER_PASSWORD}@{SQL_SERVER_HOST}/{SQL_SERVER_DATABASE}'\n",
    "\n",
    "# Alternative full url string\n",
    "mssql_url = f'mssql+pymssql://{SQL_SERVER_USER}:{SQL_SERVER_PASSWORD}@{SQL_SERVER_HOST}:{SQL_SERVER_PORT}/{SQL_SERVER_DATABASE}'"
   ]
  },
  {
   "cell_type": "code",
   "execution_count": null,
   "id": "4c3d6401",
   "metadata": {},
   "outputs": [],
   "source": [
    "# Create database connection to SQL Server using a sqlalchemy engine\n",
    "mssql_engine = sqlalchemy.create_engine(mssql_url)"
   ]
  },
  {
   "cell_type": "markdown",
   "id": "94b7b3bc",
   "metadata": {},
   "source": [
    "## PostgreSQL"
   ]
  },
  {
   "cell_type": "code",
   "execution_count": null,
   "id": "fe5d37f4",
   "metadata": {},
   "outputs": [],
   "source": [
    "# Setup SQL Server connection parameters within a notebook\n",
    "# Do not use in production scripts\n",
    "\n",
    "POSTGRESQL_HOST = '' # Required\n",
    "POSTGRESQL_PORT = '16432' # Default\n",
    "POSTGRESQL_DATABASE = '' # Usuaully Required\n",
    "POSTGRESQL_USER = input(\"User Name:\")\n",
    "POSTGRESQL_PASSWORD = getpass.getpass(prompt='Password: ', stream=None)"
   ]
  },
  {
   "cell_type": "code",
   "execution_count": null,
   "id": "2ca7357e",
   "metadata": {},
   "outputs": [],
   "source": [
    "# Setup PostgreSQL connection parameters with environment variables\n",
    "# Required for production scripts\n",
    "# ! Never hardcode sensitive information such as usernames and passwords !\n",
    "\n",
    "POSTGRESQL_HOST = os.environ['POSTGRESQL_HOST']\n",
    "POSTGRESQL_PORT = os.environ['POSTGRESQL_PORT'] # Default = '16432'\n",
    "POSTGRESQL_DATABASE = os.environ['POSTGRESQL_DATABASE']\n",
    "POSTGRESQL_USER = os.environ['POSTGRESQL_USER']\n",
    "POSTGRESQL_PASSWORD = os.environ['POSTGRESQL_PASSWORD']"
   ]
  },
  {
   "cell_type": "code",
   "execution_count": null,
   "id": "204c01c5",
   "metadata": {},
   "outputs": [],
   "source": [
    "# Generate sqlalchemy connection string using the PostgreSQL dialect\n",
    "# The PostgreSQL dialect for sqlalchemy is part of the `psycopg2` library\n",
    "\n",
    "# Minimum url requirements\n",
    "pg_url = f'postgresql+psycopg2://{POSTGRESQL_USER}:{POSTGRESQL_PASSWORD}@{POSTGRESQL_HOST}/{POSTGRESQL_DATABASE}'\n",
    "\n",
    "# Alternative full url string\n",
    "pg_url = f'postgresql+psycopg2://{POSTGRESQL_USER}:{POSTGRESQL_PASSWORD}@{POSTGRESQL_HOST}:{POSTGRESQL_PORT}/{POSTGRESQL_DATABASE}'"
   ]
  },
  {
   "cell_type": "code",
   "execution_count": null,
   "id": "b96686a1",
   "metadata": {},
   "outputs": [],
   "source": [
    "# Create database connectiong to PostgreSQL using a sqlalchemy engine\n",
    "pg_engine = sqlalchemy.create_engine(pg_url)"
   ]
  }
 ],
 "metadata": {
  "kernelspec": {
   "display_name": "Data Quality (Py 3.6.9)",
   "language": "python",
   "name": "dqm"
  },
  "language_info": {
   "codemirror_mode": {
    "name": "ipython",
    "version": 3
   },
   "file_extension": ".py",
   "mimetype": "text/x-python",
   "name": "python",
   "nbconvert_exporter": "python",
   "pygments_lexer": "ipython3",
   "version": "3.6.9"
  }
 },
 "nbformat": 4,
 "nbformat_minor": 5
}

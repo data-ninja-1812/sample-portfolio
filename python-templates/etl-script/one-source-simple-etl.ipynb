{
 "cells": [
  {
   "cell_type": "markdown",
   "id": "9b5a1914",
   "metadata": {},
   "source": [
    "# Simple ETL Execution within a single database source"
   ]
  },
  {
   "cell_type": "code",
   "execution_count": null,
   "id": "e1b8e83e",
   "metadata": {},
   "outputs": [],
   "source": [
    "# For use in Jupyter Only\n",
    "\n",
    "%config Completer.use_jedi = False"
   ]
  },
  {
   "cell_type": "code",
   "execution_count": null,
   "id": "2a357802",
   "metadata": {},
   "outputs": [],
   "source": [
    "# Import Libraries\n",
    "\n",
    "import os\n",
    "import sqlalchemy\n",
    "import getpass # For use in masked password inputs"
   ]
  },
  {
   "cell_type": "markdown",
   "id": "8960ffdf",
   "metadata": {},
   "source": [
    "## Setup Database Connection"
   ]
  },
  {
   "cell_type": "code",
   "execution_count": null,
   "id": "26a75169",
   "metadata": {},
   "outputs": [],
   "source": [
    "# Setup Teradata connection parameters within a notebook\n",
    "# Do not use in production scripts\n",
    "\n",
    "TERADATA_HOST = '' # Required\n",
    "TERADATA_PORT = '1025' # Default\n",
    "TERADATA_DATABASE = '' # Default\n",
    "TERADATA_USER = input(\"User Name:\")\n",
    "TERADATA_PASSWORD = getpass.getpass(prompt='Password: ', stream=None)"
   ]
  },
  {
   "cell_type": "code",
   "execution_count": null,
   "id": "02e7fc33",
   "metadata": {},
   "outputs": [],
   "source": [
    "# Setup Teradata connection parameters with environment variables\n",
    "# Required for production scripts\n",
    "# ! Never hardcode sensitive information such as usernames and passwords !\n",
    "\n",
    "TERADATA_HOST = os.environ['TERADATA_HOST']\n",
    "TERADATA_PORT = os.environ['TERADATA_PORT'] # Default = '1025'\n",
    "TERADATA_DATABASE = os.environ['TERADATA_DATABASE'] # Default = ''\n",
    "TERADATA_USER = os.environ['TERADATA_USER']\n",
    "TERADATA_PASSWORD = os.environ['TERADATA_PASSWORD']"
   ]
  },
  {
   "cell_type": "code",
   "execution_count": null,
   "id": "df7a2659",
   "metadata": {},
   "outputs": [],
   "source": [
    "# Generate sqlalchemy connection string using the Teradata dialect\n",
    "# The Teradata dialect for sqlalchemy is part of the `teradatasqlalchemy` library\n",
    "\n",
    "# Minimum url requirements\n",
    "td_url = f'teradatasql://{TERADATA_USER}:{TERADATA_PASSWORD}@{TERADATA_HOST}'\n",
    "\n",
    "# Alternative full url string\n",
    "td_url = f'teradatasql://{TERADATA_USER}:{TERADATA_PASSWORD}@{TERADATA_HOST}:{TERADATA_PORT}/{TERADATA_DATABASE}'"
   ]
  },
  {
   "cell_type": "code",
   "execution_count": null,
   "id": "05b78693",
   "metadata": {},
   "outputs": [],
   "source": [
    "# Create database connection to Teradata using a sqlalchemy engine  \n",
    "td_engine = sqlalchemy.create_engine(td_url)"
   ]
  },
  {
   "cell_type": "markdown",
   "id": "d9296027",
   "metadata": {},
   "source": [
    "## Set ETL Script"
   ]
  },
  {
   "cell_type": "code",
   "execution_count": null,
   "id": "2f376083",
   "metadata": {},
   "outputs": [],
   "source": [
    "# Set the ETL Script as a multiline string\n",
    "# This is recommended for simple SQL statements\n",
    "\n",
    "query = \"\"\"\n",
    "(instert query statement here)\n",
    "\"\"\""
   ]
  },
  {
   "cell_type": "code",
   "execution_count": null,
   "id": "5a7b7048",
   "metadata": {},
   "outputs": [],
   "source": [
    "# Or, import the ETL Script from a file\n",
    "# This is recommended for large SQL statements\n",
    "\n",
    "query = open('etl.sql', 'r').read()"
   ]
  },
  {
   "cell_type": "markdown",
   "id": "f58fb69b",
   "metadata": {},
   "source": [
    "## Execute Script"
   ]
  },
  {
   "cell_type": "code",
   "execution_count": null,
   "id": "69e08352",
   "metadata": {},
   "outputs": [],
   "source": [
    "# Using the SQLAlchemy engine, open a connection to the data base and execute the query.\n",
    "\n",
    "td_conn = td_engine.connect()\n",
    "\n",
    "try:\n",
    "    td_conn.execute(query)\n",
    "    td_conn.close() # Always close the connection\n",
    "except:\n",
    "    td_conn.close() # Always close the connection even on failure\n",
    "    raise"
   ]
  }
 ],
 "metadata": {
  "kernelspec": {
   "display_name": "Data Quality (Py 3.6.9)",
   "language": "python",
   "name": "dqm"
  },
  "language_info": {
   "codemirror_mode": {
    "name": "ipython",
    "version": 3
   },
   "file_extension": ".py",
   "mimetype": "text/x-python",
   "name": "python",
   "nbconvert_exporter": "python",
   "pygments_lexer": "ipython3",
   "version": "3.6.9"
  }
 },
 "nbformat": 4,
 "nbformat_minor": 5
}

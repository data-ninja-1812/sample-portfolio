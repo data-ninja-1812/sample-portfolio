{
 "cells": [
  {
   "cell_type": "markdown",
   "id": "c04df9d1",
   "metadata": {},
   "source": [
    "# Simple ETL Execution with a source and destination database"
   ]
  },
  {
   "cell_type": "code",
   "execution_count": null,
   "id": "0f791bf0",
   "metadata": {},
   "outputs": [],
   "source": [
    "# For use in Jupyter Only\n",
    "\n",
    "%config Completer.use_jedi = False"
   ]
  },
  {
   "cell_type": "code",
   "execution_count": null,
   "id": "f8cc47de",
   "metadata": {},
   "outputs": [],
   "source": [
    "# Import Libraries\n",
    "\n",
    "import os\n",
    "import pandas as pd\n",
    "import sqlalchemy\n",
    "import getpass # For use in masked password inputs"
   ]
  },
  {
   "cell_type": "markdown",
   "id": "9c8e30fe",
   "metadata": {},
   "source": [
    "## Setup Source Database Connection"
   ]
  },
  {
   "cell_type": "code",
   "execution_count": null,
   "id": "9106c69f",
   "metadata": {},
   "outputs": [],
   "source": [
    "# Setup Teradata connection parameters within a notebook\n",
    "# Do not use in production scripts\n",
    "\n",
    "TERADATA_HOST = '' # Required\n",
    "TERADATA_PORT = '1025' # Default\n",
    "TERADATA_DATABASE = '' # Default\n",
    "TERADATA_USER = input(\"User Name:\")\n",
    "TERADATA_PASSWORD = getpass.getpass(prompt='Password: ', stream=None)"
   ]
  },
  {
   "cell_type": "code",
   "execution_count": null,
   "id": "0082c69b",
   "metadata": {},
   "outputs": [],
   "source": [
    "# Setup Teradata connection parameters with environment variables\n",
    "# Required for production scripts\n",
    "# ! Never hardcode sensitive information such as usernames and passwords !\n",
    "\n",
    "TERADATA_HOST = os.environ['TERADATA_HOST']\n",
    "TERADATA_PORT = os.environ['TERADATA_PORT'] # Default = '1025'\n",
    "TERADATA_DATABASE = os.environ['TERADATA_DATABASE'] # Default = ''\n",
    "TERADATA_USER = os.environ['TERADATA_USER']\n",
    "TERADATA_PASSWORD = os.environ['TERADATA_PASSWORD']"
   ]
  },
  {
   "cell_type": "code",
   "execution_count": null,
   "id": "b7c194f9",
   "metadata": {},
   "outputs": [],
   "source": [
    "# Generate sqlalchemy connection string using the Teradata dialect\n",
    "# The Teradata dialect for sqlalchemy is part of the `teradatasqlalchemy` library\n",
    "\n",
    "# Minimum url requirements\n",
    "td_url = f'teradatasql://{TERADATA_USER}:{TERADATA_PASSWORD}@{TERADATA_HOST}'\n",
    "\n",
    "# Alternative full url string\n",
    "td_url = f'teradatasql://{TERADATA_USER}:{TERADATA_PASSWORD}@{TERADATA_HOST}:{TERADATA_PORT}/{TERADATA_DATABASE}'"
   ]
  },
  {
   "cell_type": "code",
   "execution_count": null,
   "id": "94e28787",
   "metadata": {},
   "outputs": [],
   "source": [
    "# Create database connection to Teradata using a sqlalchemy engine  \n",
    "td_engine = sqlalchemy.create_engine(td_url)"
   ]
  },
  {
   "cell_type": "markdown",
   "id": "fa0ffae8",
   "metadata": {},
   "source": [
    "## Setup Destination Database Connection"
   ]
  },
  {
   "cell_type": "code",
   "execution_count": null,
   "id": "26e2e8a9",
   "metadata": {},
   "outputs": [],
   "source": [
    "# Setup SQL Server connection parameters within a notebook\n",
    "# Do not use in production scripts\n",
    "\n",
    "SQL_SERVER_HOST = '' # Required\n",
    "SQL_SERVER_PORT = '1433' # Default\n",
    "SQL_SERVER_DATABASE = '' # Usuaully Required\n",
    "SQL_SERVER_USER = input(\"User Name:\")\n",
    "SQL_SERVER_PASSWORD = getpass.getpass(prompt='Password: ', stream=None)"
   ]
  },
  {
   "cell_type": "code",
   "execution_count": null,
   "id": "cd41e522",
   "metadata": {},
   "outputs": [],
   "source": [
    "# Setup SQL Server connection parameters with environment variables\n",
    "# Required for production scripts\n",
    "# ! Never hardcode sensitive information such as usernames and passwords !\n",
    "\n",
    "SQL_SERVER_HOST = os.environ['SQL_SERVER_HOST']\n",
    "SQL_SERVER_PORT = os.environ['SQL_SERVER_PORT'] # Default = '1433'\n",
    "SQL_SERVER_DATABASE = os.environ['SQL_SERVER_DATABASE']\n",
    "SQL_SERVER_USER = os.environ['SQL_SERVER_USER']\n",
    "SQL_SERVER_PASSWORD = os.environ['SQL_SERVER_PASSWORD']"
   ]
  },
  {
   "cell_type": "code",
   "execution_count": null,
   "id": "5bcd7e5c",
   "metadata": {},
   "outputs": [],
   "source": [
    "# Generate sqlalchemy connection string using the MS-SQL Server dialect\n",
    "# The Teradata dialect for sqlalchemy is part of the `pymssql` library\n",
    "\n",
    "# Minimum url requirements\n",
    "mssql_url = f'mssql+pymssql://{SQL_SERVER_USER}:{SQL_SERVER_PASSWORD}@{SQL_SERVER_HOST}/{SQL_SERVER_DATABASE}'\n",
    "\n",
    "# Alternative full url string\n",
    "mssql_url = f'mssql+pymssql://{SQL_SERVER_USER}:{SQL_SERVER_PASSWORD}@{SQL_SERVER_HOST}:{SQL_SERVER_PORT}/{SQL_SERVER_DATABASE}'"
   ]
  },
  {
   "cell_type": "code",
   "execution_count": null,
   "id": "74f440cd",
   "metadata": {},
   "outputs": [],
   "source": [
    "# Create database connection to SQL Server using a sqlalchemy engine\n",
    "mssql_engine = sqlalchemy.create_engine(mssql_url)"
   ]
  },
  {
   "cell_type": "markdown",
   "id": "0cd27024",
   "metadata": {},
   "source": [
    "## Set Source Script"
   ]
  },
  {
   "cell_type": "code",
   "execution_count": null,
   "id": "9d3675e7",
   "metadata": {},
   "outputs": [],
   "source": [
    "# Set the ETL Script as a multiline string\n",
    "# This is recommended for simple SQL statements\n",
    "\n",
    "source_query = \"\"\"\n",
    "(instert query statement here)\n",
    "\"\"\""
   ]
  },
  {
   "cell_type": "code",
   "execution_count": null,
   "id": "20d648bb",
   "metadata": {},
   "outputs": [],
   "source": [
    "# Or, import the ETL Script from a file\n",
    "# This is recommended for large SQL statements\n",
    "\n",
    "source_query = open('etl.sql', 'r').read()"
   ]
  },
  {
   "cell_type": "markdown",
   "id": "d6846bc7",
   "metadata": {},
   "source": [
    "## Extract Data from Source"
   ]
  },
  {
   "cell_type": "code",
   "execution_count": null,
   "id": "c9feadaa",
   "metadata": {},
   "outputs": [],
   "source": [
    "# Execute query against source database and collect data in pandas DataFrame\n",
    "\n",
    "input_data = pd.read_sql(source_query, td_engine)"
   ]
  },
  {
   "cell_type": "markdown",
   "id": "03281908",
   "metadata": {},
   "source": [
    "## Transform DataFrame (if neccessary)"
   ]
  },
  {
   "cell_type": "code",
   "execution_count": null,
   "id": "76d9482a",
   "metadata": {},
   "outputs": [],
   "source": [
    "output_data = input_data"
   ]
  },
  {
   "cell_type": "markdown",
   "id": "8a2c8362",
   "metadata": {},
   "source": [
    "## Load Data into Destination"
   ]
  },
  {
   "cell_type": "code",
   "execution_count": null,
   "id": "b2e415b2",
   "metadata": {},
   "outputs": [],
   "source": [
    "# Use pandas to_sql function to load data into destination\n",
    "\n",
    "# Pushing data into a database with pandas can be an error prone process that requires debugging and iteration\n",
    "\n",
    "# There are more precise and complex mechanisms to load data with SQLAlchemy, but pandas.to_sql is a good starting point\n",
    "\n",
    "# For more information on how to use this function see\n",
    "# https://pandas.pydata.org/docs/reference/api/pandas.DataFrame.to_sql.html\n",
    "\n",
    "output_data.to_sql(table_name, mssql_engine, schema=SQL_SERVER_DATABASE)"
   ]
  },
  {
   "cell_type": "code",
   "execution_count": null,
   "id": "aab1a6a9",
   "metadata": {},
   "outputs": [],
   "source": []
  }
 ],
 "metadata": {
  "kernelspec": {
   "display_name": "Data Quality (Py 3.6.9)",
   "language": "python",
   "name": "dqm"
  },
  "language_info": {
   "codemirror_mode": {
    "name": "ipython",
    "version": 3
   },
   "file_extension": ".py",
   "mimetype": "text/x-python",
   "name": "python",
   "nbconvert_exporter": "python",
   "pygments_lexer": "ipython3",
   "version": "3.6.9"
  }
 },
 "nbformat": 4,
 "nbformat_minor": 5
}

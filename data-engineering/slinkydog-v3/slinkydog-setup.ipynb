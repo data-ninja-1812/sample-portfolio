{
 "cells": [
  {
   "cell_type": "code",
   "execution_count": null,
   "metadata": {
    "collapsed": false
   },
   "outputs": [],
   "source": [
    "### Load Dependencies ###\n",
    "\n",
    "import teradata\n",
    "import pandas\n",
    "import os\n",
    "import config\n",
    "import lockout"
   ]
  },
  {
   "cell_type": "code",
   "execution_count": null,
   "metadata": {
    "collapsed": true
   },
   "outputs": [],
   "source": [
    "print(str(pandas.datetime.now()))\n",
    "print(\"SLINKYDOG SETUP - START\")"
   ]
  },
  {
   "cell_type": "code",
   "execution_count": null,
   "metadata": {
    "collapsed": false
   },
   "outputs": [],
   "source": [
    "### Automation --- Program Lockout Check ###\n",
    "\n",
    "# Used to prevent multiple instances from running\n",
    "\n",
    "# Builtin default lockout file is py.lock\n",
    "# lockout.lock_file = \"py.lock\""
   ]
  },
  {
   "cell_type": "code",
   "execution_count": null,
   "metadata": {
    "collapsed": true
   },
   "outputs": [],
   "source": [
    "# Manual lockout override\n",
    "# lockout.unlock(verbose=True)"
   ]
  },
  {
   "cell_type": "code",
   "execution_count": null,
   "metadata": {
    "collapsed": false
   },
   "outputs": [],
   "source": [
    "# Check for lockout\n",
    "# Passing hault=True will stop the program\n",
    "lockout.islocked(verbose=True, hault=True)"
   ]
  },
  {
   "cell_type": "code",
   "execution_count": null,
   "metadata": {
    "collapsed": false
   },
   "outputs": [],
   "source": [
    "# Enable lockout before continuing\n",
    "lockout.lock(verbose=True)"
   ]
  },
  {
   "cell_type": "code",
   "execution_count": null,
   "metadata": {
    "collapsed": false
   },
   "outputs": [],
   "source": [
    "### Setup and open Teradata connection ###\n",
    "\n",
    "os.system('echo -n \"$TERADATA_LOGON_PASSWORD\" | kinit \"$TERADATA_LOGON_USER\"');\n",
    "udaExec = teradata.UdaExec(appName=\"python\", version=\"1.0\", logConsole=False,\n",
    "                          odbcLibPath=\"/opt/app/ttu1510/teradata/client/15.10/odbc_64/lib/libodbc.so\")\n",
    "session = udaExec.connect(method=\"odbc\", system=\"edwprod.dw.medcity.net\", driver=\"Teradata\")"
   ]
  },
  {
   "cell_type": "markdown",
   "metadata": {},
   "source": [
    "### Create placeholders for all tables"
   ]
  },
  {
   "cell_type": "code",
   "execution_count": null,
   "metadata": {
    "collapsed": true
   },
   "outputs": [],
   "source": [
    "### Tables To Initiate ###\n",
    "\n",
    "tables = [\n",
    "    config.SNAPSHOT_STAGING,\n",
    "    config.SNAPSHOT_CURRENT,\n",
    "    config.SNAPSHOT_PREVIOUS,\n",
    "    config.KEYFRAME_TABLE,\n",
    "    config.INTRAFRAME_MEMO_STAGING,\n",
    "    config.INTRAFRAME_STAGING,\n",
    "    config.INTRAFRAME_TABLE,\n",
    "    config.INDEX_TABLE\n",
    "]"
   ]
  },
  {
   "cell_type": "code",
   "execution_count": null,
   "metadata": {
    "collapsed": false
   },
   "outputs": [],
   "source": [
    "### Clear any tables that exist ###\n",
    "for table in tables:\n",
    "    print(table)\n",
    "    try:\n",
    "        session.execute(\"DROP TABLE \" + table + \";\")\n",
    "    except:\n",
    "        print(\"ERROR\")"
   ]
  },
  {
   "cell_type": "code",
   "execution_count": null,
   "metadata": {
    "collapsed": false
   },
   "outputs": [],
   "source": [
    "### Create placeholders for tables ###\n",
    "\n",
    "print(\"Creating table placeholders...\")\n",
    "\n",
    "for table in tables:\n",
    "    print(table)\n",
    "    session.execute(\"CREATE TABLE \" + table + \" (placeholder int NOT NULL);\")"
   ]
  },
  {
   "cell_type": "markdown",
   "metadata": {},
   "source": [
    "### Build the Index Table"
   ]
  },
  {
   "cell_type": "code",
   "execution_count": null,
   "metadata": {
    "collapsed": false
   },
   "outputs": [],
   "source": [
    "### Build Index Table ###\n",
    "\n",
    "print(\"Dropping INDEX_TABLE placeholder...\")\n",
    "query = \"DROP TABLE \" + config.INDEX_TABLE + \";\"\n",
    "\n",
    "session.execute(query)\n",
    "\n",
    "print(\"Building empty INDEX_TABLE...\")\n",
    "query = \"CREATE TABLE \" + config.INDEX_TABLE + \"\"\"\n",
    "(\n",
    "    INDEX_SEQ int,\n",
    "    KEYFRAME_SEQ int,\n",
    "    INTRAFRAME_SEQ int,\n",
    "    FRAME_TIMESTAMP timestamp\n",
    ");\n",
    "\"\"\"\n",
    "    \n",
    "session.execute(query)"
   ]
  },
  {
   "cell_type": "markdown",
   "metadata": {
    "collapsed": true
   },
   "source": [
    "### Close Teradata Connection"
   ]
  },
  {
   "cell_type": "code",
   "execution_count": null,
   "metadata": {
    "collapsed": false
   },
   "outputs": [],
   "source": [
    "### Close Session ###\n",
    "session.close()\n",
    "\n",
    "print(str(pandas.datetime.now()))\n",
    "print(\"Session Closed.\")\n",
    "\n",
    "lockout.unlock(verbose=True)"
   ]
  },
  {
   "cell_type": "code",
   "execution_count": null,
   "metadata": {
    "collapsed": true
   },
   "outputs": [],
   "source": [
    "print(str(pandas.datetime.now()))\n",
    "print(\"SLINKYDOG SETUP - COMPLETE\")"
   ]
  }
 ],
 "metadata": {
  "anaconda-cloud": {},
  "kernelspec": {
   "display_name": "Python [conda env:gci7043_py36]",
   "language": "python",
   "name": "conda-env-gci7043_py36-py"
  },
  "language_info": {
   "codemirror_mode": {
    "name": "ipython",
    "version": 3
   },
   "file_extension": ".py",
   "mimetype": "text/x-python",
   "name": "python",
   "nbconvert_exporter": "python",
   "pygments_lexer": "ipython3",
   "version": "3.6.1"
  }
 },
 "nbformat": 4,
 "nbformat_minor": 1
}

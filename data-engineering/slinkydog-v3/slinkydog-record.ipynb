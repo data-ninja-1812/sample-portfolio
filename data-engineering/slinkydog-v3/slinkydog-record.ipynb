{
 "cells": [
  {
   "cell_type": "markdown",
   "metadata": {},
   "source": [
    "To run, use the following bash commands:\n",
    "\n",
    "> source activate gci7043_py36\n",
    "\n",
    "> jupyter nbconvert --to python \"(filename).ipynb\"\n",
    "\n",
    "> python \"(filename).py\"\n",
    "\n",
    "(Unfortunatly the --execute option for nbconvert will not work unless you can add the appropriate conda kernel to jupyter kernelspec list... which I cannot)"
   ]
  },
  {
   "cell_type": "markdown",
   "metadata": {},
   "source": [
    "### Setup Environment"
   ]
  },
  {
   "cell_type": "code",
   "execution_count": null,
   "metadata": {
    "collapsed": true
   },
   "outputs": [],
   "source": [
    "### Load Dependencies ###\n",
    "\n",
    "import teradata\n",
    "import pandas\n",
    "import os\n",
    "import config\n",
    "import lockout\n",
    "import sys\n",
    "import time"
   ]
  },
  {
   "cell_type": "markdown",
   "metadata": {},
   "source": [
    "### Lockout Mechanism for Preventing Concurrent Instances"
   ]
  },
  {
   "cell_type": "code",
   "execution_count": null,
   "metadata": {
    "collapsed": false
   },
   "outputs": [],
   "source": [
    "### Automation --- Program Lockout Check ###\n",
    "\n",
    "# Used to prevent multiple instances from running\n",
    "\n",
    "# Builtin default lockout file is py.lock\n",
    "# lockout.lock_file = \"py.lock\"\n",
    "\n",
    "# Manual lockout override\n",
    "# lockout.unlock(verbose=True)\n",
    "\n",
    "# Check for lockout\n",
    "# Passing hault=True will stop the program\n",
    "lockout.islocked(verbose=True, hault=True)\n",
    "\n",
    "# Enable lockout before continuing\n",
    "lockout.lock(verbose=True)"
   ]
  },
  {
   "cell_type": "code",
   "execution_count": null,
   "metadata": {
    "collapsed": false
   },
   "outputs": [],
   "source": [
    "### Define Exit Procedures ###\n",
    "\n",
    "def safe_exit(session=None, hault=True, verbose=False, session_close=False):\n",
    "    \n",
    "    if verbose: print(\"\\nSAFE EXIT REQUESTED\")\n",
    "    \n",
    "    #Close open database session\n",
    "    try:\n",
    "        if session_close:\n",
    "            session.close()\n",
    "            print(\"Teradata Session Closed\")\n",
    "    except:\n",
    "        None\n",
    "    \n",
    "    #Remove Lockout\n",
    "    print(\"Removing Lockout... \", end =\"\")\n",
    "    try:\n",
    "        lockout.unlock()\n",
    "        print(\"Done.\")\n",
    "    except:\n",
    "        print(\"Error.\")\n",
    "    \n",
    "    #if hault: raise RuntimeError(\"Safe Exit Requested\") #Better for jupyter notebook\n",
    "    if hault: exit()"
   ]
  },
  {
   "cell_type": "markdown",
   "metadata": {},
   "source": [
    "### Manual Override Parameters for Jupyter Notebook"
   ]
  },
  {
   "cell_type": "code",
   "execution_count": null,
   "metadata": {
    "collapsed": true
   },
   "outputs": [],
   "source": [
    "### Class for storing manual override\n",
    "class manual:\n",
    "    override = False"
   ]
  },
  {
   "cell_type": "code",
   "execution_count": null,
   "metadata": {
    "collapsed": true
   },
   "outputs": [],
   "source": [
    "### Enter manual override values for testing here\n",
    "manual.override = False\n",
    "\n",
    "manual.QUERY = None #\"EDWCL_Temp.clifford_base_2019_03_27 With Data And Stats\"\n",
    "manual.INTRAFRAME_MAX = None\n",
    "\n",
    "#Use None to indicate index auto-increment\n",
    "manual.INDEX_SEQ = None\n",
    "manual.KEYFRAME_SEQ = None\n",
    "manual.INTRAFRAME_SEQ = None\n",
    "manual.FRAME_TIMESTAMP = None #'2019-03-27 16:00:01'"
   ]
  },
  {
   "cell_type": "code",
   "execution_count": null,
   "metadata": {
    "collapsed": false
   },
   "outputs": [],
   "source": [
    "if manual.override:\n",
    "    print(\"!!!Safety Check!!!\")\n",
    "    print(\"Please double check manual entries before proceeding.\")\n",
    "    raise"
   ]
  },
  {
   "cell_type": "markdown",
   "metadata": {},
   "source": [
    "### 00 - Teradata Connection Setup"
   ]
  },
  {
   "cell_type": "code",
   "execution_count": null,
   "metadata": {
    "collapsed": true
   },
   "outputs": [],
   "source": [
    "### Framework for executing Teradata queries\n",
    "\n",
    "def exec_query(query, session, verbose = True, dryrun = False, ignore_db_error = False):\n",
    "\n",
    "    if dryrun: print('--- DRY RUN ONLY - NO EXECUTION ---')\n",
    "    print(str(pandas.datetime.now()))\n",
    "    print(query)\n",
    "\n",
    "    try:\n",
    "        if not dryrun: session.execute(query)\n",
    "        print(str(pandas.datetime.now()))\n",
    "        print('DONE.')\n",
    "        return None\n",
    "\n",
    "    except teradata.api.DatabaseError as err:\n",
    "        print(str(pandas.datetime.now()))\n",
    "        print(\"DATABASE ERROR: \", err)\n",
    "        \n",
    "        if not ignore_db_error:\n",
    "            safe_exit(hault=False, verbose=True, session=session)\n",
    "            raise\n",
    "        \n",
    "        if ignore_db_error: print(\"IGNORING DATABASE ERROR.\")\n",
    "\n",
    "        return None\n",
    "    \n",
    "    except:\n",
    "        print(str(pandas.datetime.now()))\n",
    "        print(\"FATAL ERROR\")\n",
    "        safe_exit(hault=False, verbose=True, session=session)\n",
    "        raise\n",
    "        return None"
   ]
  },
  {
   "cell_type": "markdown",
   "metadata": {
    "collapsed": false
   },
   "source": [
    "### Setup and open Teradata connection ###\n",
    "'''\n",
    "try:\n",
    "    os.system('echo -n \"$TERADATA_LOGON_PASSWORD\" | kinit \"$TERADATA_LOGON_USER\"');\n",
    "\n",
    "    udaExec = teradata.UdaExec(appName=\"python\", version=\"1.0\", logConsole=False,\n",
    "                              odbcLibPath=\"/opt/app/ttu1510/teradata/client/15.10/odbc_64/lib/libodbc.so\")\n",
    "    session = udaExec.connect(method=\"odbc\", system=\"edwprod.dw.medcity.net\", driver=\"Teradata\")\n",
    "\n",
    "except:\n",
    "    \n",
    "    print(sys.exc_info()[1])\n",
    "    \n",
    "    safe_exit(session=None)\n",
    "'''"
   ]
  },
  {
   "cell_type": "code",
   "execution_count": null,
   "metadata": {
    "collapsed": true
   },
   "outputs": [],
   "source": [
    "### Setup and open Teradata connection ###\n",
    "\n",
    "# Try 3 times before aborting\n",
    "conn_flag = False\n",
    "time_delay = 10\n",
    "max_attempts = 3\n",
    "\n",
    "for i in range(0,max_attempts):\n",
    "    \n",
    "    try:\n",
    "        os.system('echo -n \"$TERADATA_LOGON_PASSWORD\" | kinit \"$TERADATA_LOGON_USER\"')\n",
    "\n",
    "        udaExec = teradata.UdaExec(appName=\"python\", version=\"1.0\", logConsole=False,\n",
    "                                   odbcLibPath=\"/opt/app/ttu1510/teradata/client/15.10/odbc_64/lib/libodbc.so\")\n",
    "        \n",
    "        session = udaExec.connect(method=\"odbc\", system=\"edwprod.dw.medcity.net\", driver=\"Teradata\")\n",
    "        \n",
    "        print(\"Teradata session opened.\")\n",
    "        \n",
    "        conn_flag = True\n",
    "\n",
    "    except:\n",
    "        \n",
    "        print(\"ATTEMPT NUMBER %i - ERROR: Connection could not be established.\" %(i + 1))\n",
    "        \n",
    "        print(sys.exc_info()[1])\n",
    "        \n",
    "        None\n",
    "        \n",
    "    if conn_flag: break\n",
    "        \n",
    "    if i < (max_attempts - 1) :\n",
    "        \n",
    "        print(\"Retrying in 10 seconds...\")\n",
    "        time.sleep(10)\n",
    "        \n",
    "if not conn_flag:\n",
    "    \n",
    "    print(\"ERROR: Maximum number of attempts to connect.\")\n",
    "    \n",
    "    safe_exit(hault=True, verbose = True)"
   ]
  },
  {
   "cell_type": "markdown",
   "metadata": {},
   "source": [
    "### 01 - Load Snapshot of Table / Query into Staging"
   ]
  },
  {
   "cell_type": "code",
   "execution_count": null,
   "metadata": {
    "collapsed": false
   },
   "outputs": [],
   "source": [
    "# Clear existing staging table\n",
    "\n",
    "query = \"DROP TABLE \" + config.SNAPSHOT_STAGING + \";\"\n",
    "\n",
    "exec_query(query, session, ignore_db_error = True)"
   ]
  },
  {
   "cell_type": "code",
   "execution_count": null,
   "metadata": {
    "collapsed": false
   },
   "outputs": [],
   "source": [
    "# Load data into staging table from QUERY\n",
    "\n",
    "query = \"CREATE TABLE \" + config.SNAPSHOT_STAGING + \" AS \" + config.QUERY + \";\"\n",
    "\n",
    "if manual.override:\n",
    "    if manual.QUERY is not None:\n",
    "        query = \"CREATE TABLE \" + config.SNAPSHOT_STAGING + \" AS \" + manual.QUERY + \";\"\n",
    "\n",
    "exec_query(query, session)"
   ]
  },
  {
   "cell_type": "markdown",
   "metadata": {},
   "source": [
    "### 02 - Move Previous Frame into Previous Frame Table"
   ]
  },
  {
   "cell_type": "code",
   "execution_count": null,
   "metadata": {
    "collapsed": false
   },
   "outputs": [],
   "source": [
    "# Clear previous snapshot table\n",
    "\n",
    "query = \"DROP TABLE \" + config.SNAPSHOT_PREVIOUS + \";\"\n",
    "\n",
    "exec_query(query, session, ignore_db_error = True)"
   ]
  },
  {
   "cell_type": "code",
   "execution_count": null,
   "metadata": {
    "collapsed": false
   },
   "outputs": [],
   "source": [
    "# Move data in snapshot_current into snapshot_previous\n",
    "\n",
    "query = \"CREATE TABLE \" + config.SNAPSHOT_PREVIOUS + \" AS \" + config.SNAPSHOT_CURRENT + \" With Data And Stats;\"\n",
    "\n",
    "exec_query(query, session)"
   ]
  },
  {
   "cell_type": "markdown",
   "metadata": {},
   "source": [
    "### 03 - Load Current Index Metadata"
   ]
  },
  {
   "cell_type": "code",
   "execution_count": null,
   "metadata": {
    "collapsed": false
   },
   "outputs": [],
   "source": [
    "### Load Last Index Entry ###\n",
    "\n",
    "query = \"\"\"\n",
    "SELECT INDEX_SEQ, KEYFRAME_SEQ, INTRAFRAME_SEQ, FRAME_TIMESTAMP\n",
    "\n",
    "FROM (\n",
    "   SELECT RANK() OVER (ORDER BY INDEX_SEQ DESC) AS LAST_ENTRY, ref.*\n",
    "   FROM \"\"\" + config.INDEX_TABLE + \"\"\" ref\n",
    ") idx\n",
    "\n",
    "WHERE idx.LAST_ENTRY = 1;\n",
    "\"\"\"\n",
    "\n",
    "\n",
    "try:\n",
    "    results = pandas.read_sql(query, session)\n",
    "except:\n",
    "    safe_exit(hault=False, verbose=True, session=session)\n",
    "    raise"
   ]
  },
  {
   "cell_type": "code",
   "execution_count": null,
   "metadata": {
    "collapsed": false
   },
   "outputs": [],
   "source": [
    "INITIAL_RUN = False\n",
    "\n",
    "if len(results) > 0:\n",
    "    INDEX_SEQ = results.INDEX_SEQ[0].astype(int)\n",
    "    KEYFRAME_SEQ = results.KEYFRAME_SEQ[0].astype(int)\n",
    "    INTRAFRAME_SEQ = results.INTRAFRAME_SEQ[0].astype(int)\n",
    "    FRAME_TIMESTAMP = results.FRAME_TIMESTAMP[0]\n",
    "    \n",
    "else:\n",
    "    INDEX_SEQ = 0\n",
    "    KEYFRAME_SEQ = 0\n",
    "    INTRAFRAME_SEQ = 0\n",
    "    FRAME_TIMESTAMP = None\n",
    "    INITIAL_RUN = True"
   ]
  },
  {
   "cell_type": "code",
   "execution_count": null,
   "metadata": {
    "collapsed": false
   },
   "outputs": [],
   "source": [
    "print(\"Last INDEX_SEQ:        %i\" %INDEX_SEQ)\n",
    "print(\"Last KEYFRAME_SEQ:     %i\" %KEYFRAME_SEQ)\n",
    "print(\"Last INTRAFRAME_SEQ:   %i\" %INTRAFRAME_SEQ)\n",
    "print(\"Last FRAME_TIMESTAMP:  %s\" %str(FRAME_TIMESTAMP))\n",
    "\n",
    "if INITIAL_RUN:\n",
    "    print(\"\\nChecking for first run... \")"
   ]
  },
  {
   "cell_type": "markdown",
   "metadata": {},
   "source": [
    "### 03a - Check for First Run"
   ]
  },
  {
   "cell_type": "code",
   "execution_count": null,
   "metadata": {
    "collapsed": false
   },
   "outputs": [],
   "source": [
    "### Failsafe - Check for empty Key Frame Table placholder ###\n",
    "\n",
    "if INITIAL_RUN:\n",
    "\n",
    "    query = \"SELECT COUNT(*) FROM \" + config.KEYFRAME_TABLE + \";\"\n",
    "    \n",
    "    try:\n",
    "        results_check = pandas.read_sql(query, session)\n",
    "    except:\n",
    "        safe_exit(hault=False, verbose=True, session=session)\n",
    "        raise\n",
    "\n",
    "    table_check = results_check.iloc[0][0].astype(int)\n",
    "    print(\"Key Frame Table record count: %i\"  %table_check)\n",
    "    \n",
    "    if table_check == 0:\n",
    "        INITIAL_RUN = True\n",
    "        print(\"First Run Verified - Initializing Setup Mode\")\n",
    "    else:\n",
    "        INITIAL_RUN = False\n",
    "        print(\"ERROR:  Index Table Error\")\n",
    "        raise ValueError(\"ERROR:  Index Table Error\")"
   ]
  },
  {
   "cell_type": "markdown",
   "metadata": {},
   "source": [
    "### 04 - Determine if new frame is a Key Frame"
   ]
  },
  {
   "cell_type": "code",
   "execution_count": null,
   "metadata": {
    "collapsed": false
   },
   "outputs": [],
   "source": [
    "INTRAFRAME_MAX = config.INTRAFRAME_MAX\n",
    "\n",
    "if manual.override == True:\n",
    "    if manual.INTRAFRAME_MAX is not None: INTRAFRAME_MAX = manual.INTRAFRAME_MAX\n",
    "\n",
    "if INTRAFRAME_SEQ >= INTRAFRAME_MAX:\n",
    "    keyframe_flag = True\n",
    "else:\n",
    "    keyframe_flag = False\n",
    "    \n",
    "if INITIAL_RUN:\n",
    "    keyframe_flag = True\n",
    "    \n",
    "if keyframe_flag:\n",
    "    print(\"New Key Frame\")"
   ]
  },
  {
   "cell_type": "markdown",
   "metadata": {},
   "source": [
    "### 05 - Increment Index"
   ]
  },
  {
   "cell_type": "code",
   "execution_count": null,
   "metadata": {
    "collapsed": false
   },
   "outputs": [],
   "source": [
    "if keyframe_flag == True:\n",
    "    #Auto Increment KeyFrame Sequence\n",
    "    KEYFRAME_SEQ = KEYFRAME_SEQ + 1\n",
    "    \n",
    "    #Reset Intraframe Sequence\n",
    "    INTRAFRAME_SEQ = 0\n",
    "    \n",
    "elif keyframe_flag == False:\n",
    "    \n",
    "    #Auto Increment Intraframe Sequence\n",
    "    INTRAFRAME_SEQ = INTRAFRAME_SEQ + 1\n",
    "\n",
    "else:\n",
    "    raise ValueError('Issue with keyframe_flag')\n",
    "    \n",
    "#Auto Increment Index Sequence\n",
    "INDEX_SEQ = INDEX_SEQ + 1\n",
    "\n",
    "#Auto Timestamp\n",
    "FRAME_TIMESTAMP = pandas.datetime.strftime(pandas.datetime.now(), \"%Y-%m-%d %H:%M:%S\")\n"
   ]
  },
  {
   "cell_type": "code",
   "execution_count": null,
   "metadata": {
    "collapsed": true
   },
   "outputs": [],
   "source": [
    "if manual.override:\n",
    "    if manual.INDEX_SEQ is not None:        INDEX_SEQ = manual.INDEX_SEQ\n",
    "    if manual.KEYFRAME_SEQ is not None:     KEYFRAME_SEQ = manual.KEYFRAME_SEQ\n",
    "    if manual.INTRAFRAME_SEQ is not None:   INTRAFRAME_SEQ = manual.INTRAFRAME_SEQ\n",
    "    if manual.FRAME_TIMESTAMP is not None:  FRAME_TIMESTAMP = manual.FRAME_TIMESTAMP"
   ]
  },
  {
   "cell_type": "code",
   "execution_count": null,
   "metadata": {
    "collapsed": false
   },
   "outputs": [],
   "source": [
    "print(\"Current INDEX_SEQ:        %i\" %INDEX_SEQ)\n",
    "print(\"Current KEYFRAME_SEQ:     %i\" %KEYFRAME_SEQ)\n",
    "print(\"Current INTRAFRAME_SEQ:   %i\" %INTRAFRAME_SEQ)\n",
    "print(\"Current FRAME_TIMESTAMP:  %s\" %str(FRAME_TIMESTAMP))"
   ]
  },
  {
   "cell_type": "markdown",
   "metadata": {},
   "source": [
    "### 06 - Load data from Staging into Current Frame Table"
   ]
  },
  {
   "cell_type": "code",
   "execution_count": null,
   "metadata": {
    "collapsed": false
   },
   "outputs": [],
   "source": [
    "### Clear current snapshot table\n",
    "\n",
    "query = \"DROP TABLE \" + config.SNAPSHOT_CURRENT + \";\"\n",
    "\n",
    "exec_query(query, session, ignore_db_error = True)"
   ]
  },
  {
   "cell_type": "code",
   "execution_count": null,
   "metadata": {
    "collapsed": false
   },
   "outputs": [],
   "source": [
    "query = \"CREATE TABLE \" + config.SNAPSHOT_CURRENT + \"\"\" AS ( \n",
    "\n",
    "SELECT \n",
    "\"\"\" + str(KEYFRAME_SEQ) + \"\"\" as KEYFRAME_SEQ,\n",
    "\"\"\" + str(INTRAFRAME_SEQ) + \"\"\" as INTRAFRAME_SEQ,\n",
    "'\"\"\" + str(FRAME_TIMESTAMP) + \"\"\"' as FRAME_TIMESTAMP,\n",
    "\"\"\" + config.HASH_VALUE + \"\"\" as HASH_VALUE,\n",
    "base.*\n",
    "\n",
    "FROM \"\"\" + config.SNAPSHOT_STAGING + \"\"\"  base\n",
    "\n",
    ") WITH DATA PRIMARY INDEX NUPI (\"\"\" + config.PRIMARY_KEY + \"\"\");\n",
    "\n",
    "\"\"\"\n",
    "\n",
    "exec_query(query, session)"
   ]
  },
  {
   "cell_type": "markdown",
   "metadata": {},
   "source": [
    "### 07 - Update Frame Index Table"
   ]
  },
  {
   "cell_type": "code",
   "execution_count": null,
   "metadata": {
    "collapsed": false
   },
   "outputs": [],
   "source": [
    "query = \"INSERT INTO \" + config.INDEX_TABLE + \" VALUES( \" + str(INDEX_SEQ) + \", \" + str(KEYFRAME_SEQ) + \", \" + \\\n",
    "str(INTRAFRAME_SEQ) + \", '\" + str(FRAME_TIMESTAMP) + \"');\"\n",
    "\n",
    "exec_query(query, session)"
   ]
  },
  {
   "cell_type": "markdown",
   "metadata": {},
   "source": [
    "### 08a - Generate New KeyFrame Table On First Run"
   ]
  },
  {
   "cell_type": "code",
   "execution_count": null,
   "metadata": {
    "collapsed": false
   },
   "outputs": [],
   "source": [
    "### Drop Key Frame Table placeholder\n",
    "\n",
    "if INITIAL_RUN:\n",
    "    print(\"\\nBUILDING NEW KEYFRAME TABLE\\n\")\n",
    "    \n",
    "    query = \"DROP TABLE \" + config.KEYFRAME_TABLE + \";\"\n",
    "    exec_query(query, session)"
   ]
  },
  {
   "cell_type": "code",
   "execution_count": null,
   "metadata": {
    "collapsed": false
   },
   "outputs": [],
   "source": [
    "### Create new Key Frame Table\n",
    "\n",
    "if INITIAL_RUN:\n",
    "    \n",
    "    query = \"CREATE TABLE \" + config.KEYFRAME_TABLE + \" AS \" + config.SNAPSHOT_CURRENT + \" With Data And Stats PRIMARY INDEX NUPI (KEYFRAME_SEQ, \" + config.PRIMARY_KEY + \");\"\n",
    "    exec_query(query, session)\n",
    "    \n",
    "    print(str(pandas.datetime.now()))\n",
    "    safe_exit(hault=True, verbose=True, session=session, session_close=True)    \n",
    "    \n",
    "    print('SlinkyDog process complete.')\n",
    "    \n",
    "    raise ValueError()"
   ]
  },
  {
   "cell_type": "markdown",
   "metadata": {},
   "source": [
    "### 08b - Generate Key Frame if Applicable"
   ]
  },
  {
   "cell_type": "code",
   "execution_count": null,
   "metadata": {
    "collapsed": false
   },
   "outputs": [],
   "source": [
    "if keyframe_flag == True:\n",
    "\n",
    "    query = \"INSERT INTO \" + config.KEYFRAME_TABLE + \" SELECT * FROM \" + config.SNAPSHOT_CURRENT + \";\"\n",
    "\n",
    "    exec_query(query, session)"
   ]
  },
  {
   "cell_type": "markdown",
   "metadata": {},
   "source": [
    "### 08c - Drop Frame Timestamp (There's a reason)"
   ]
  },
  {
   "cell_type": "code",
   "execution_count": null,
   "metadata": {
    "collapsed": false
   },
   "outputs": [],
   "source": [
    "query = \"ALTER TABLE \" + config.SNAPSHOT_CURRENT + \" DROP FRAME_TIMESTAMP;\"\n",
    "\n",
    "exec_query(query, session)"
   ]
  },
  {
   "cell_type": "markdown",
   "metadata": {},
   "source": [
    "### 09 - Compare Current Frame to Previous Frame -> Change Memos"
   ]
  },
  {
   "cell_type": "code",
   "execution_count": null,
   "metadata": {
    "collapsed": false
   },
   "outputs": [],
   "source": [
    "### Clear current memo table\n",
    "\n",
    "query = \"DROP TABLE \" + config.INTRAFRAME_MEMO_STAGING + \";\"\n",
    "\n",
    "exec_query(query, session, ignore_db_error = True)"
   ]
  },
  {
   "cell_type": "code",
   "execution_count": null,
   "metadata": {
    "collapsed": false
   },
   "outputs": [],
   "source": [
    "### Calculate differences on hash_value and store memos\n",
    "\n",
    "query = \"CREATE TABLE \" + config.INTRAFRAME_MEMO_STAGING + \"\"\" AS (\n",
    "\n",
    "SELECT '\"\"\" + str(FRAME_TIMESTAMP) + \"\"\"' as FRAME_TIMESTAMP,\n",
    "COALESCE(tbl_A.\"\"\" + config.PRIMARY_KEY + \"\"\", tbl_B.\"\"\" + config.PRIMARY_KEY + \"\"\") as \"\"\" + config.PRIMARY_KEY + \"\"\"_KEY,\n",
    "\"\"\" + str(KEYFRAME_SEQ) + \"\"\" AS KEYFRAME_SEQ_KEY,\n",
    "\"\"\" + str(INTRAFRAME_SEQ) + \"\"\" AS INTRAFRAME_SEQ_KEY,\n",
    "CASE\n",
    "    WHEN ((tbl_A.HASH_VALUE <> tbl_B.HASH_VALUE) AND (tbl_A.\"\"\" + config.PRIMARY_KEY + \"\"\" IS NOT NULL) AND (tbl_B.\"\"\" + config.PRIMARY_KEY + \"\"\" IS NOT NULL)) THEN 'CHANGE'\n",
    "    WHEN ((tbl_A.\"\"\" + config.PRIMARY_KEY + \"\"\" IS NULL) AND (tbl_B.\"\"\" + config.PRIMARY_KEY + \"\"\" IS NOT NULL)) THEN 'ADD'\n",
    "    WHEN ((tbl_A.\"\"\" + config.PRIMARY_KEY + \"\"\" IS NOT NULL) AND (tbl_B.\"\"\" + config.PRIMARY_KEY + \"\"\" IS NULL)) THEN 'DROP'\n",
    "    ELSE 'NO_CHANGE'\n",
    "END AS MEMO\n",
    "\n",
    "FROM (\n",
    "    SELECT \"\"\" + config.PRIMARY_KEY + \"\"\", HASH_VALUE FROM \"\"\" + config.SNAPSHOT_PREVIOUS + \"\"\"\n",
    "    ) tbl_A\n",
    "\n",
    "FULL OUTER JOIN (\n",
    "    SELECT \"\"\" + config.PRIMARY_KEY + \"\"\", HASH_VALUE FROM \"\"\" + config.SNAPSHOT_CURRENT + \"\"\"\n",
    "    ) tbl_B\n",
    "\n",
    "ON tbl_A.\"\"\" + config.PRIMARY_KEY + \"\"\" = tbl_B.\"\"\" + config.PRIMARY_KEY + \"\"\"\n",
    "\n",
    "--WHERE memo IS NOT NULL\n",
    "\n",
    ") WITH DATA PRIMARY INDEX NUPI (\"\"\" + config.PRIMARY_KEY + \"\"\"_KEY);\"\"\"\n",
    "\n",
    "exec_query(query, session)"
   ]
  },
  {
   "cell_type": "markdown",
   "metadata": {},
   "source": [
    "### 10 - Generate Intraframe"
   ]
  },
  {
   "cell_type": "code",
   "execution_count": null,
   "metadata": {
    "collapsed": false
   },
   "outputs": [],
   "source": [
    "### Clear intraframe staging table\n",
    "\n",
    "query = \"DROP TABLE \" + config.INTRAFRAME_STAGING + \";\"\n",
    "\n",
    "exec_query(query, session, ignore_db_error = True)"
   ]
  },
  {
   "cell_type": "code",
   "execution_count": null,
   "metadata": {
    "collapsed": false
   },
   "outputs": [],
   "source": [
    "### Create staging table\n",
    "\n",
    "query = \"CREATE TABLE \" + config.INTRAFRAME_STAGING + \"\"\" AS (\n",
    "SELECT * FROM \"\"\" + config.INTRAFRAME_MEMO_STAGING + \"\"\" memos\n",
    "\n",
    "FULL OUTER JOIN \"\"\" + config.SNAPSHOT_CURRENT + \"\"\" base\n",
    "\n",
    "ON memos.\"\"\" + config.PRIMARY_KEY + \"\"\"_KEY = base.\"\"\" + config.PRIMARY_KEY + \"\"\"\n",
    "\n",
    "WHERE MEMO not like 'NO_CHANGE'\n",
    "\n",
    ") WITH DATA PRIMARY INDEX NUPI (\"\"\" + config.PRIMARY_KEY + \"\"\"_KEY);\"\"\"\n",
    "\n",
    "exec_query(query, session)"
   ]
  },
  {
   "cell_type": "code",
   "execution_count": null,
   "metadata": {
    "collapsed": false
   },
   "outputs": [],
   "source": [
    "### Clean up and reorganize staging table\n",
    "\n",
    "queries = [\n",
    "    'ALTER TABLE ' + config.INTRAFRAME_STAGING + ' DROP SRG_CASE_SK;',\n",
    "    'ALTER TABLE ' + config.INTRAFRAME_STAGING + ' DROP KEYFRAME_SEQ;',\n",
    "    'ALTER TABLE ' + config.INTRAFRAME_STAGING + ' DROP INTRAFRAME_SEQ;',\n",
    "    #'ALTER TABLE ' + config.INTRAFRAME_STAGING + ' RENAME SRG_CASE_SK_KEY TO SRG_CASE_SK;',  #Does not work on primary key\n",
    "    'ALTER TABLE ' + config.INTRAFRAME_STAGING + ' RENAME KEYFRAME_SEQ_KEY TO KEYFRAME_SEQ;',\n",
    "    'ALTER TABLE ' + config.INTRAFRAME_STAGING + ' RENAME INTRAFRAME_SEQ_KEY TO INTRAFRAME_SEQ;']\n",
    "\n",
    "for query in queries:\n",
    "    exec_query(query, session)"
   ]
  },
  {
   "cell_type": "code",
   "execution_count": null,
   "metadata": {
    "collapsed": false
   },
   "outputs": [],
   "source": [
    "### Move data into volatile table to alter primary key\n",
    "\n",
    "query = \"\"\"\n",
    "CREATE VOLATILE TABLE slinkydog_xfer ,\n",
    "NO LOG AS (\n",
    "    SELECT \n",
    "        base.\"\"\" + config.PRIMARY_KEY + \"\"\"_KEY as \"\"\" + config.PRIMARY_KEY + \"\"\",\n",
    "        base.*\n",
    "    FROM \"\"\"+ config.INTRAFRAME_STAGING +\"\"\" base\n",
    ") WITH DATA\n",
    "PRIMARY INDEX (KEYFRAME_SEQ, INTRAFRAME_SEQ,\"\"\" + config.PRIMARY_KEY + \"\"\")\n",
    "ON COMMIT PRESERVE ROWS;\n",
    "\"\"\"\n",
    "\n",
    "exec_query(query, session)"
   ]
  },
  {
   "cell_type": "code",
   "execution_count": null,
   "metadata": {
    "collapsed": false
   },
   "outputs": [],
   "source": [
    "### Clear intraframe staging table for reuse\n",
    "\n",
    "query = \"DROP TABLE \" + config.INTRAFRAME_STAGING + \";\"\n",
    "\n",
    "exec_query(query, session, ignore_db_error = True)"
   ]
  },
  {
   "cell_type": "code",
   "execution_count": null,
   "metadata": {
    "collapsed": false
   },
   "outputs": [],
   "source": [
    "### Load cleaned up table back into staging\n",
    "\n",
    "query = \"CREATE TABLE \" + config.INTRAFRAME_STAGING + \" AS slinkydog_xfer With Data And Stats;\"\n",
    "\n",
    "exec_query(query, session)"
   ]
  },
  {
   "cell_type": "code",
   "execution_count": null,
   "metadata": {
    "collapsed": false
   },
   "outputs": [],
   "source": [
    "### Finish up\n",
    "\n",
    "query = 'ALTER TABLE ' + config.INTRAFRAME_STAGING + ' DROP SRG_CASE_SK_KEY;'\n",
    "\n",
    "exec_query(query, session)"
   ]
  },
  {
   "cell_type": "markdown",
   "metadata": {},
   "source": [
    "### 11 - Load Intraframe into Table"
   ]
  },
  {
   "cell_type": "code",
   "execution_count": null,
   "metadata": {
    "collapsed": false
   },
   "outputs": [],
   "source": [
    "### Check to see if the table is empty\n",
    "\n",
    "query = \"SELECT COUNT(*) FROM \" + config.INTRAFRAME_TABLE + \";\"\n",
    "\n",
    "try:\n",
    "    results = pandas.read_sql(query, session)\n",
    "except:\n",
    "    safe_exit(hault=False, verbose=True, session=session)\n",
    "    raise\n",
    "\n",
    "table_check = results.iloc[0][0].astype(int)\n",
    "\n",
    "print(\"Beginning record count: %i\"  %table_check)"
   ]
  },
  {
   "cell_type": "code",
   "execution_count": null,
   "metadata": {
    "collapsed": false
   },
   "outputs": [],
   "source": [
    "if table_check == 0:\n",
    "    print(\"\\nBUILDING NEW INTRAFRAME TABLE\\n\")\n",
    "    \n",
    "    print(\"CREATING NEW TABLE \" + config.INTRAFRAME_TABLE)\n",
    "    \n",
    "    query = \"DROP TABLE \" + config.INTRAFRAME_TABLE + \";\"\n",
    "    exec_query(query, session, ignore_db_error = True)\n",
    "\n",
    "    query = \"CREATE TABLE \" + config.INTRAFRAME_TABLE + \" AS \" + config.INTRAFRAME_STAGING + \" With Data And Stats PRIMARY INDEX (KEYFRAME_SEQ, INTRAFRAME_SEQ, \" + config.PRIMARY_KEY + \");\"\n",
    "    exec_query(query, session)\n",
    "\n",
    "else:\n",
    "    query = \"INSERT INTO \" + config.INTRAFRAME_TABLE + \" SELECT * FROM \" + config.INTRAFRAME_STAGING + \";\"\n",
    "    exec_query(query, session)"
   ]
  },
  {
   "cell_type": "code",
   "execution_count": null,
   "metadata": {
    "collapsed": false
   },
   "outputs": [],
   "source": [
    "### Validate new data was appended\n",
    "\n",
    "query = \"SELECT COUNT(*) FROM \" + config.INTRAFRAME_TABLE + \";\"\n",
    "\n",
    "try:\n",
    "    results = pandas.read_sql(query, session)\n",
    "except:\n",
    "    safe_exit(hault=False, verbose=True, session=session)\n",
    "    raise\n",
    "\n",
    "table_check = results.iloc[0][0].astype(int)\n",
    "\n",
    "print(\"Ending record count: %i\"  %table_check)"
   ]
  },
  {
   "cell_type": "markdown",
   "metadata": {},
   "source": [
    "### 99 - Close Teradata Connection"
   ]
  },
  {
   "cell_type": "code",
   "execution_count": null,
   "metadata": {
    "collapsed": false
   },
   "outputs": [],
   "source": [
    "### Close Session ###\n",
    "print(str(pandas.datetime.now()))\n",
    "safe_exit(hault=False, verbose=True, session=session, session_close=True)"
   ]
  },
  {
   "cell_type": "code",
   "execution_count": null,
   "metadata": {
    "collapsed": false
   },
   "outputs": [],
   "source": [
    "print('SlinkyDog process complete.')"
   ]
  },
  {
   "cell_type": "code",
   "execution_count": null,
   "metadata": {
    "collapsed": true
   },
   "outputs": [],
   "source": []
  }
 ],
 "metadata": {
  "anaconda-cloud": {},
  "kernelspec": {
   "display_name": "Python [conda env:gci7043_py36]",
   "language": "python",
   "name": "conda-env-gci7043_py36-py"
  },
  "language_info": {
   "codemirror_mode": {
    "name": "ipython",
    "version": 3
   },
   "file_extension": ".py",
   "mimetype": "text/x-python",
   "name": "python",
   "nbconvert_exporter": "python",
   "pygments_lexer": "ipython3",
   "version": "3.6.1"
  }
 },
 "nbformat": 4,
 "nbformat_minor": 1
}

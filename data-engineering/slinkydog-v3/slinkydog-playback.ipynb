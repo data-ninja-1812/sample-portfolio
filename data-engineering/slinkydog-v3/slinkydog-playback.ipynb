{
 "cells": [
  {
   "cell_type": "code",
   "execution_count": null,
   "metadata": {
    "collapsed": true
   },
   "outputs": [],
   "source": [
    "### Load Dependencies ###\n",
    "\n",
    "import teradata\n",
    "import pandas\n",
    "import os\n",
    "import config"
   ]
  },
  {
   "cell_type": "code",
   "execution_count": null,
   "metadata": {
    "collapsed": false
   },
   "outputs": [],
   "source": [
    "### Framework for executing Teradata queries\n",
    "\n",
    "def exec_query(query, session, verbose = True, dryrun = False, ignore_db_error = False):\n",
    "\n",
    "    if dryrun: print('--- DRY RUN ONLY - NO EXECUTION ---')\n",
    "    print(str(pandas.datetime.now()))\n",
    "    print(query)\n",
    "\n",
    "    try:\n",
    "        if not dryrun: session.execute(query)\n",
    "        print(str(pandas.datetime.now()))\n",
    "        print('DONE.')\n",
    "        return None\n",
    "\n",
    "    except teradata.api.DatabaseError as err:\n",
    "        print(str(pandas.datetime.now()))\n",
    "        print(\"DATABASE ERROR: \", err)\n",
    "        \n",
    "        if not ignore_db_error: raise ValueError(\"DATABASE ERROR: \", err)\n",
    "        if ignore_db_error: print(\"Ignoring Database Error.\")\n",
    "\n",
    "        return None\n",
    "    \n",
    "    except:\n",
    "        print(str(pandas.datetime.now()))\n",
    "        print(\"FATAL ERROR\")\n",
    "        raise\n",
    "        return None"
   ]
  },
  {
   "cell_type": "code",
   "execution_count": null,
   "metadata": {
    "collapsed": false
   },
   "outputs": [],
   "source": [
    "### Setup and open Teradata connection ###\n",
    "\n",
    "os.system('echo -n \"$TERADATA_LOGON_PASSWORD\" | kinit \"$TERADATA_LOGON_USER\"');"
   ]
  },
  {
   "cell_type": "code",
   "execution_count": null,
   "metadata": {
    "collapsed": false
   },
   "outputs": [],
   "source": [
    "udaExec = teradata.UdaExec(appName=\"python\", version=\"1.0\", logConsole=False,\n",
    "                          odbcLibPath=\"/opt/app/ttu1510/teradata/client/15.10/odbc_64/lib/libodbc.so\")\n",
    "session = udaExec.connect(method=\"odbc\", system=\"edwprod.dw.medcity.net\", driver=\"Teradata\")"
   ]
  },
  {
   "cell_type": "markdown",
   "metadata": {
    "collapsed": true
   },
   "source": [
    "### Create Array of Indicies"
   ]
  },
  {
   "cell_type": "code",
   "execution_count": null,
   "metadata": {
    "collapsed": true
   },
   "outputs": [],
   "source": [
    "query = \"SELECT * FROM \" + config.INDEX_TABLE + \";\""
   ]
  },
  {
   "cell_type": "code",
   "execution_count": null,
   "metadata": {
    "collapsed": false
   },
   "outputs": [],
   "source": [
    "index = pandas.read_sql(query,session)"
   ]
  },
  {
   "cell_type": "code",
   "execution_count": null,
   "metadata": {
    "collapsed": false
   },
   "outputs": [],
   "source": [
    "index.sort_values(\"INDEX_SEQ\").reset_index(drop=True)"
   ]
  },
  {
   "cell_type": "code",
   "execution_count": null,
   "metadata": {
    "collapsed": false
   },
   "outputs": [],
   "source": [
    "idx = index.sort_values(\"INDEX_SEQ\")[['KEYFRAME_SEQ','INTRAFRAME_SEQ']].astype(int).values.tolist()"
   ]
  },
  {
   "cell_type": "code",
   "execution_count": null,
   "metadata": {
    "collapsed": false
   },
   "outputs": [],
   "source": [
    "base_idx = idx[0]\n",
    "intra_idx = idx[1:7]"
   ]
  },
  {
   "cell_type": "code",
   "execution_count": null,
   "metadata": {
    "collapsed": false
   },
   "outputs": [],
   "source": [
    "base_idx"
   ]
  },
  {
   "cell_type": "code",
   "execution_count": null,
   "metadata": {
    "collapsed": false
   },
   "outputs": [],
   "source": [
    "intra_idx"
   ]
  },
  {
   "cell_type": "markdown",
   "metadata": {},
   "source": [
    "### Checks"
   ]
  },
  {
   "cell_type": "code",
   "execution_count": null,
   "metadata": {
    "collapsed": false
   },
   "outputs": [],
   "source": [
    "print(config.PLAYBACK_FRAME)\n",
    "print(config.PLAYBACK_APPEND)\n",
    "print(config.PLAYBACK_REMOVE)\n",
    "print(config.PLAYBACK_TEMP)"
   ]
  },
  {
   "cell_type": "markdown",
   "metadata": {},
   "source": [
    "### Initialize Frame Constructions"
   ]
  },
  {
   "cell_type": "code",
   "execution_count": null,
   "metadata": {
    "collapsed": false
   },
   "outputs": [],
   "source": [
    "# Reset Output Table\n",
    "\n",
    "query = \"DROP TABLE \" + config.PLAYBACK_FRAME + \";\"\n",
    "\n",
    "exec_query(query, session, ignore_db_error=True)"
   ]
  },
  {
   "cell_type": "code",
   "execution_count": null,
   "metadata": {
    "collapsed": false
   },
   "outputs": [],
   "source": [
    "# Create Output Table\n",
    "\n",
    "queries = [\n",
    "    \"\"\"\n",
    "    CREATE TABLE  \"\"\" + config.PLAYBACK_FRAME + \"\"\" AS (\n",
    "    SELECT * FROM \"\"\" + config.KEYFRAME_TABLE + \"\"\"\n",
    "    WHERE KEYFRAME_SEQ = \"\"\" + str(base_idx[0]) + \"\"\"\n",
    "    ) WITH DATA PRIMARY INDEX (\"\"\" + config.PRIMARY_KEY + \"\"\");\n",
    "    \"\"\",\n",
    "    \"ALTER TABLE \" + config.PLAYBACK_FRAME + \" DROP FRAME_TIMESTAMP;\",\n",
    "    \"ALTER TABLE \" + config.PLAYBACK_FRAME + \" DROP KEYFRAME_SEQ;\",\n",
    "    \"ALTER TABLE \" + config.PLAYBACK_FRAME + \" DROP INTRAFRAME_SEQ;\",\n",
    "    \"ALTER TABLE \" + config.PLAYBACK_FRAME + \" DROP HASH_VALUE;\"\n",
    "    ]\n",
    "\n",
    "for query in queries:\n",
    "    exec_query(query, session)\n"
   ]
  },
  {
   "cell_type": "markdown",
   "metadata": {},
   "source": [
    "### Construct Frames"
   ]
  },
  {
   "cell_type": "code",
   "execution_count": null,
   "metadata": {
    "collapsed": false,
    "scrolled": true
   },
   "outputs": [],
   "source": [
    "for i in intra_idx:\n",
    "    queries = [\n",
    "        \"\"\"\n",
    "        --Create list of records that will be altered\n",
    "        CREATE TABLE \"\"\" + config.PLAYBACK_REMOVE + \"\"\" AS (\n",
    "        SELECT \"\"\" + config.PRIMARY_KEY + \"\"\" AS \"\"\" + config.PRIMARY_KEY + \"\"\"_REMOVE,\n",
    "        1 AS FLAG_REMOVE\n",
    "        FROM \"\"\" + config.INTRAFRAME_TABLE + \"\"\"\n",
    "        WHERE KEYFRAME_SEQ = \"\"\" + str(i[0]) + \"\"\"\n",
    "        AND INTRAFRAME_SEQ = \"\"\" + str(i[1]) + \"\"\"\n",
    "        ) WITH DATA PRIMARY INDEX (\"\"\" + config.PRIMARY_KEY + \"\"\"_REMOVE);\n",
    "        \"\"\",\n",
    "\n",
    "        \"\"\"\n",
    "        --Create list of records that will be replaced or added\n",
    "        CREATE TABLE \"\"\" + config.PLAYBACK_APPEND + \"\"\" AS (\n",
    "        SELECT *\n",
    "        FROM \"\"\" + config.INTRAFRAME_TABLE + \"\"\"\n",
    "        WHERE KEYFRAME_SEQ = \"\"\" + str(i[0]) + \"\"\"\n",
    "        AND INTRAFRAME_SEQ = \"\"\" + str(i[1]) + \"\"\"\n",
    "        AND MEMO in ('CHANGE', 'ADD')\n",
    "        ) WITH DATA PRIMARY INDEX (\"\"\" + config.PRIMARY_KEY + \"\"\");\n",
    "        \"\"\",\n",
    "        \n",
    "        \"ALTER TABLE \"  + config.PLAYBACK_APPEND + \"  DROP FRAME_TIMESTAMP;\",\n",
    "        \"ALTER TABLE \"  + config.PLAYBACK_APPEND + \"  DROP KEYFRAME_SEQ;\",\n",
    "        \"ALTER TABLE \"  + config.PLAYBACK_APPEND + \"  DROP INTRAFRAME_SEQ;\",\n",
    "        \"ALTER TABLE \"  + config.PLAYBACK_APPEND + \"  DROP HASH_VALUE;\",\n",
    "        \"ALTER TABLE \"  + config.PLAYBACK_APPEND + \"  DROP MEMO;\",\n",
    "\n",
    "        \"\"\"\n",
    "        --Remove Records that will be changed or dropped\n",
    "\n",
    "        CREATE VOLATILE TABLE \"\"\" + config.PLAYBACK_TEMP + \"\"\",\n",
    "        NO LOG AS (\n",
    "        SELECT * FROM \"\"\" + config.PLAYBACK_FRAME + \"\"\" base\n",
    "        LEFT JOIN \"\"\" + config.PLAYBACK_REMOVE + \"\"\" rmv\n",
    "        ON base.\"\"\" + config.PRIMARY_KEY + \"\"\" = rmv.\"\"\" + config.PRIMARY_KEY + \"\"\"_REMOVE\n",
    "        ) WITH DATA\n",
    "        PRIMARY INDEX (\"\"\" + config.PRIMARY_KEY + \"\"\")\n",
    "        ON COMMIT PRESERVE ROWS;\n",
    "        \"\"\",\n",
    "        \"DELETE FROM \" + config.PLAYBACK_TEMP + \" WHERE FLAG_REMOVE = 1;\",\n",
    "\n",
    "        \n",
    "        \"DROP TABLE \" + config.PLAYBACK_FRAME + \";\",\n",
    "        \"CREATE TABLE \" + config.PLAYBACK_FRAME + \"\"\" AS \n",
    "        \"\"\" + config.PLAYBACK_TEMP + \" WITH DATA AND STATS PRIMARY INDEX (\" + config.PRIMARY_KEY + \");\",\n",
    "        \"ALTER TABLE \" + config.PLAYBACK_FRAME + \" DROP \" + config.PRIMARY_KEY + \"_REMOVE;\",\n",
    "        \"ALTER TABLE \" + config.PLAYBACK_FRAME + \" DROP FLAG_REMOVE;\",\n",
    "        \"DROP TABLE \" + config.PLAYBACK_TEMP + \";\",\n",
    "\n",
    "        \"\"\"\n",
    "        --Add Records that will have been changed or added\n",
    "\n",
    "        INSERT INTO \"\"\" + config.PLAYBACK_FRAME + \"\"\"\n",
    "        SELECT * FROM \"\"\" + config.PLAYBACK_APPEND + \"\"\";\n",
    "        \"\"\",\n",
    "        \n",
    "        \"\"\"\n",
    "        --Clear out temp tables\n",
    "\n",
    "        DROP TABLE \"\"\" + config.PLAYBACK_REMOVE + \"\"\";\n",
    "        \"\"\",\n",
    "        \"\"\"\n",
    "        DROP TABLE \"\"\" + config.PLAYBACK_APPEND + \"\"\";\n",
    "        \"\"\"\n",
    "    ]\n",
    "    for query in queries:\n",
    "        exec_query(query, session)"
   ]
  },
  {
   "cell_type": "markdown",
   "metadata": {},
   "source": [
    "### Close Teradata Connection"
   ]
  },
  {
   "cell_type": "code",
   "execution_count": null,
   "metadata": {
    "collapsed": false
   },
   "outputs": [],
   "source": [
    "### Close Session ###\n",
    "session.close()\n",
    "\n",
    "print(str(pandas.datetime.now()))\n",
    "print(\"Session Closed.\")"
   ]
  },
  {
   "cell_type": "code",
   "execution_count": null,
   "metadata": {
    "collapsed": true
   },
   "outputs": [],
   "source": []
  }
 ],
 "metadata": {
  "anaconda-cloud": {},
  "kernelspec": {
   "display_name": "Python [conda env:gci7043_py36]",
   "language": "python",
   "name": "conda-env-gci7043_py36-py"
  },
  "language_info": {
   "codemirror_mode": {
    "name": "ipython",
    "version": 3
   },
   "file_extension": ".py",
   "mimetype": "text/x-python",
   "name": "python",
   "nbconvert_exporter": "python",
   "pygments_lexer": "ipython3",
   "version": "3.6.1"
  }
 },
 "nbformat": 4,
 "nbformat_minor": 1
}
